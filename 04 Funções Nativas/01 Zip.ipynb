{
 "cells": [
  {
   "cell_type": "markdown",
   "id": "1007c6db",
   "metadata": {},
   "source": [
    "# Zip\n",
    "\n",
    "Une duas ou mais sequências em paralelo e retorna uma lista de tuplas"
   ]
  },
  {
   "cell_type": "code",
   "execution_count": 6,
   "id": "166315ed",
   "metadata": {},
   "outputs": [
    {
     "name": "stdout",
     "output_type": "stream",
     "text": [
      "(1, 2)\n",
      "(3, 4)\n",
      "(5, 6)\n",
      "(7, 8)\n",
      "(9, 10)\n"
     ]
    }
   ],
   "source": [
    "lista_1 = [1, 3, 5, 7, 9]\n",
    "lista_2 = [2, 4, 6, 8, 10]\n",
    "for item in zip(lista_1, lista_2):\n",
    "    print(item)"
   ]
  },
  {
   "cell_type": "code",
   "execution_count": 12,
   "id": "ca322c11",
   "metadata": {},
   "outputs": [
    {
     "name": "stdout",
     "output_type": "stream",
     "text": [
      "[(1, 2), (3, 4), (5, 6), (7, 8), (9, 10)]\n"
     ]
    }
   ],
   "source": [
    "lista_1 = [1, 3, 5, 7, 9]\n",
    "lista_2 = [2, 4, 6, 8, 10]\n",
    "resultado = list(zip(lista_1, lista_2))\n",
    "print(resultado)"
   ]
  }
 ],
 "metadata": {
  "kernelspec": {
   "display_name": "Python 3",
   "language": "python",
   "name": "python3"
  },
  "language_info": {
   "codemirror_mode": {
    "name": "ipython",
    "version": 3
   },
   "file_extension": ".py",
   "mimetype": "text/x-python",
   "name": "python",
   "nbconvert_exporter": "python",
   "pygments_lexer": "ipython3",
   "version": "3.8.8"
  }
 },
 "nbformat": 4,
 "nbformat_minor": 5
}

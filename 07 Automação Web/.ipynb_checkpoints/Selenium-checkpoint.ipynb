{
 "cells": [
  {
   "cell_type": "markdown",
   "id": "c60ea445",
   "metadata": {},
   "source": [
    "# Automação Web com Selenium"
   ]
  },
  {
   "cell_type": "markdown",
   "id": "3948232c",
   "metadata": {},
   "source": [
    "## Instalação\n",
    "### Requisitos \n",
    "#### Instalar duas bibliotecas\n",
    " - Selenium<br>\n",
    "&nbsp; &nbsp; &nbsp; &nbsp; pip install selenium<br><br>\n",
    " - Webdiver Manager<br>\n",
    "&nbsp; &nbsp; &nbsp; &nbsp; pip install webdrive-manager\n",
    "\n",
    "### Documentação\n",
    "https://selenium-python.readthedocs.io/"
   ]
  },
  {
   "cell_type": "markdown",
   "id": "36d0e3e7",
   "metadata": {},
   "source": [
    "## Importar biblioteca"
   ]
  },
  {
   "cell_type": "code",
   "execution_count": 4,
   "id": "118cc318",
   "metadata": {},
   "outputs": [
    {
     "name": "stdout",
     "output_type": "stream",
     "text": [
      "\n"
     ]
    }
   ],
   "source": [
    "from selenium import webdriver\n",
    "from webdriver_manager.chrome import ChromeDriverManager\n",
    "from selenium.webdriver.chrome.service import Service\n",
    "from selenium.webdriver.common.by import By\n",
    "\n",
    "# Baixa e instala do Driver Manager atualizado\n",
    "servico = Service(ChromeDriverManager().install())"
   ]
  },
  {
   "cell_type": "markdown",
   "id": "a341c7d9",
   "metadata": {},
   "source": [
    "## Criando o serviço"
   ]
  },
  {
   "cell_type": "code",
   "execution_count": 15,
   "id": "969ea7b0",
   "metadata": {},
   "outputs": [],
   "source": [
    "navegador = webdriver.Chrome(service=servico)"
   ]
  },
  {
   "cell_type": "markdown",
   "id": "eff61d06",
   "metadata": {},
   "source": [
    "## Acessando uma página Web"
   ]
  },
  {
   "cell_type": "code",
   "execution_count": 33,
   "id": "52911cb8",
   "metadata": {},
   "outputs": [],
   "source": [
    "navegador.get(\"https://www.google.com/\")"
   ]
  },
  {
   "cell_type": "markdown",
   "id": "944ee0b9",
   "metadata": {},
   "source": [
    "## Escrevendo em um input"
   ]
  },
  {
   "cell_type": "code",
   "execution_count": 27,
   "id": "21f26b26",
   "metadata": {},
   "outputs": [],
   "source": [
    "navegador.find_element('xpath', \n",
    "                       '/html/body/div[1]/div[3]/form/div[1]/div[1]/div[1]/div/div[2]/input').send_keys(\"Silvio Monte \\ue007\")"
   ]
  },
  {
   "cell_type": "markdown",
   "id": "2164a3e2",
   "metadata": {},
   "source": [
    "O código <b>\\ue007</b> serve paradar um enter"
   ]
  },
  {
   "cell_type": "markdown",
   "id": "0099384b",
   "metadata": {},
   "source": [
    "## Clicando em um botão"
   ]
  },
  {
   "cell_type": "code",
   "execution_count": 28,
   "id": "154f7a08",
   "metadata": {},
   "outputs": [],
   "source": [
    "navegador.find_element('xpath',\n",
    "                      '//*[@id=\"rso\"]/div[1]/div/div[1]/div/div/div[1]/div/a').click()"
   ]
  },
  {
   "cell_type": "markdown",
   "id": "a393f378",
   "metadata": {},
   "source": [
    "## Copiando dados de texto"
   ]
  },
  {
   "cell_type": "code",
   "execution_count": 24,
   "id": "ba009849",
   "metadata": {},
   "outputs": [
    {
     "name": "stdout",
     "output_type": "stream",
     "text": [
      "Silvio Monte\n"
     ]
    }
   ],
   "source": [
    "titulo = navegador.find_element(By.CLASS_NAME, \"top-card-layout__title\").text\n",
    "print(titulo)"
   ]
  },
  {
   "cell_type": "code",
   "execution_count": 25,
   "id": "88624606",
   "metadata": {},
   "outputs": [
    {
     "name": "stdout",
     "output_type": "stream",
     "text": [
      "Ensinando Tráfego Pago e Mídia Online com Amor na Berlim Digital | Compartilhando Alegria com o Team Carvalheira | Mega Feliz em ser Co-fundador do Take a Job\n"
     ]
    }
   ],
   "source": [
    "texto = navegador.find_element(By.CLASS_NAME, \"top-card-layout__headline\").text\n",
    "print(texto)"
   ]
  },
  {
   "cell_type": "markdown",
   "id": "b2f89a0b",
   "metadata": {},
   "source": [
    "## Exemplo completo"
   ]
  },
  {
   "cell_type": "code",
   "execution_count": 23,
   "id": "9e01702d",
   "metadata": {},
   "outputs": [
    {
     "name": "stdout",
     "output_type": "stream",
     "text": [
      "Silvio Monte\n",
      "Ensinando Tráfego Pago e Mídia Online com Amor na Berlim Digital | Compartilhando Alegria com o Team Carvalheira | Mega Feliz em ser Co-fundador do Take a Job\n"
     ]
    }
   ],
   "source": [
    "navegador = webdriver.Chrome(service=servico)\n",
    "navegador.get(\"https://www.google.com/\")\n",
    "navegador.find_element('xpath', \n",
    "                       '/html/body/div[1]/div[3]/form/div[1]/div[1]/div[1]/div/div[2]/input').send_keys(\"Silvio Monte \\ue007\")\n",
    "navegador.find_element('xpath',\n",
    "                      '//*[@id=\"rso\"]/div[1]/div/div[1]/div/div/div[1]/div/a').click()\n",
    "\n",
    "titulo = navegador.find_element(By.CLASS_NAME, \"top-card-layout__title\").text\n",
    "print(titulo)\n",
    "\n",
    "texto = navegador.find_element(By.CLASS_NAME, \"top-card-layout__headline\").text\n",
    "print(texto)\n"
   ]
  }
 ],
 "metadata": {
  "kernelspec": {
   "display_name": "Python 3 (ipykernel)",
   "language": "python",
   "name": "python3"
  },
  "language_info": {
   "codemirror_mode": {
    "name": "ipython",
    "version": 3
   },
   "file_extension": ".py",
   "mimetype": "text/x-python",
   "name": "python",
   "nbconvert_exporter": "python",
   "pygments_lexer": "ipython3",
   "version": "3.9.12"
  }
 },
 "nbformat": 4,
 "nbformat_minor": 5
}

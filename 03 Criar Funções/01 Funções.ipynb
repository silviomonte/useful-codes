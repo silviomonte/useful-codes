{
 "cells": [
  {
   "cell_type": "markdown",
   "id": "4017cc87",
   "metadata": {},
   "source": [
    "# Funções\n",
    "\n",
    "def &lt;nome&gt; (argumentos):<br>\n",
    "&nbsp;&nbsp;&nbsp;&nbsp;&lt;Instruções&gt;"
   ]
  },
  {
   "cell_type": "code",
   "execution_count": 1,
   "id": "c4f677c0",
   "metadata": {},
   "outputs": [],
   "source": [
    "def nome_completo(nome,sobrenome):\n",
    "    nome_completo = nome + ' ' + sobrenome\n",
    "    return nome_completo"
   ]
  },
  {
   "cell_type": "code",
   "execution_count": 3,
   "id": "878ab414",
   "metadata": {},
   "outputs": [
    {
     "name": "stdout",
     "output_type": "stream",
     "text": [
      "Silvio Monte\n"
     ]
    }
   ],
   "source": [
    "nome = 'Silvio'\n",
    "sobrenome = 'Monte'\n",
    "nome_completo = nome_completo(nome,sobrenome)\n",
    "print(nome_completo)"
   ]
  }
 ],
 "metadata": {
  "kernelspec": {
   "display_name": "Python 3",
   "language": "python",
   "name": "python3"
  },
  "language_info": {
   "codemirror_mode": {
    "name": "ipython",
    "version": 3
   },
   "file_extension": ".py",
   "mimetype": "text/x-python",
   "name": "python",
   "nbconvert_exporter": "python",
   "pygments_lexer": "ipython3",
   "version": "3.8.8"
  }
 },
 "nbformat": 4,
 "nbformat_minor": 5
}

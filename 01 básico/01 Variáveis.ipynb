{
 "cells": [
  {
   "cell_type": "markdown",
   "id": "0f321542",
   "metadata": {},
   "source": [
    "# Variáveis\n",
    "\n",
    "- Devem sempre começar com letras\n",
    "- A nomenclatura deve ser o mais simples possível\n",
    "- Para facilitar a leitura, é bom sempre usar o underline (_) para separar as palavras"
   ]
  },
  {
   "cell_type": "markdown",
   "id": "ec41f461",
   "metadata": {},
   "source": [
    "## Tipos"
   ]
  },
  {
   "cell_type": "markdown",
   "id": "a22b9e85",
   "metadata": {},
   "source": [
    "### Integer\n",
    "composta por algarismos numéricos inteiros"
   ]
  },
  {
   "cell_type": "code",
   "execution_count": 25,
   "id": "edf322f5",
   "metadata": {},
   "outputs": [
    {
     "data": {
      "text/plain": [
       "10"
      ]
     },
     "execution_count": 25,
     "metadata": {},
     "output_type": "execute_result"
    }
   ],
   "source": [
    "interiro = 10\n",
    "interiro"
   ]
  },
  {
   "cell_type": "markdown",
   "id": "831fc004",
   "metadata": {},
   "source": [
    "### Float\n",
    "composta por algarismos decimais (frações)"
   ]
  },
  {
   "cell_type": "code",
   "execution_count": 26,
   "id": "cc5081cc",
   "metadata": {},
   "outputs": [
    {
     "data": {
      "text/plain": [
       "2.5"
      ]
     },
     "execution_count": 26,
     "metadata": {},
     "output_type": "execute_result"
    }
   ],
   "source": [
    "flutuante = 2.5\n",
    "flutuante"
   ]
  },
  {
   "cell_type": "markdown",
   "id": "0dfd9b19",
   "metadata": {},
   "source": [
    "### Complexos\n",
    "composta por funções matemáticas"
   ]
  },
  {
   "cell_type": "code",
   "execution_count": 29,
   "id": "8e2d0c9c",
   "metadata": {},
   "outputs": [
    {
     "data": {
      "text/plain": [
       "(10+4j)"
      ]
     },
     "execution_count": 29,
     "metadata": {},
     "output_type": "execute_result"
    }
   ],
   "source": [
    "complexos = complex(10,4)\n",
    "complexos"
   ]
  },
  {
   "cell_type": "markdown",
   "id": "8ddd0d2f",
   "metadata": {},
   "source": [
    "### String\n",
    "composta por caracteres que formam palavras, frases e textos"
   ]
  },
  {
   "cell_type": "code",
   "execution_count": 28,
   "id": "55146544",
   "metadata": {},
   "outputs": [
    {
     "data": {
      "text/plain": [
       "'Silvio Monte'"
      ]
     },
     "execution_count": 28,
     "metadata": {},
     "output_type": "execute_result"
    }
   ],
   "source": [
    "texto = 'Silvio Monte'\n",
    "texto"
   ]
  },
  {
   "cell_type": "markdown",
   "id": "602d46ed",
   "metadata": {},
   "source": [
    "### Boolean\n",
    "composta por lógicas binárias, ou seja, expressões que podem ser classificadas como verdadeiras ou falsas"
   ]
  },
  {
   "cell_type": "code",
   "execution_count": 30,
   "id": "7067836c",
   "metadata": {},
   "outputs": [
    {
     "data": {
      "text/plain": [
       "True"
      ]
     },
     "execution_count": 30,
     "metadata": {},
     "output_type": "execute_result"
    }
   ],
   "source": [
    "booleanos = True\n",
    "booleanos"
   ]
  },
  {
   "cell_type": "markdown",
   "id": "7b60ee04",
   "metadata": {},
   "source": [
    "### Listas\n",
    "serve para agrupar outros tipos de variáveis, ainda que sejam distintas"
   ]
  },
  {
   "cell_type": "code",
   "execution_count": 31,
   "id": "f7318835",
   "metadata": {},
   "outputs": [
    {
     "data": {
      "text/plain": [
       "['Silvio', 23, 1.68]"
      ]
     },
     "execution_count": 31,
     "metadata": {},
     "output_type": "execute_result"
    }
   ],
   "source": [
    "lista = ['Silvio', 23, 1.68]\n",
    "lista"
   ]
  },
  {
   "cell_type": "markdown",
   "id": "208b91c7",
   "metadata": {},
   "source": [
    "### Tuplas\n",
    "uma espécie de lista, mas que não permite alterar elementos após a sua criação"
   ]
  },
  {
   "cell_type": "code",
   "execution_count": 33,
   "id": "9b5768ce",
   "metadata": {},
   "outputs": [
    {
     "data": {
      "text/plain": [
       "('Silvio', 23, 1.68)"
      ]
     },
     "execution_count": 33,
     "metadata": {},
     "output_type": "execute_result"
    }
   ],
   "source": [
    "tupla = ('Silvio', 23, 1.68)\n",
    "tupla"
   ]
  },
  {
   "cell_type": "markdown",
   "id": "c9101412",
   "metadata": {},
   "source": [
    "### Dicionários\n",
    "estabelece uma relação de chave e valor entre dois elementos, onde o primeiro é a chave e o segundo é o valor."
   ]
  },
  {
   "cell_type": "code",
   "execution_count": 34,
   "id": "a6235173",
   "metadata": {},
   "outputs": [
    {
     "data": {
      "text/plain": [
       "{'Nome': 'Silvio Monte', 'Idade': 23, 'Altura': 1.68}"
      ]
     },
     "execution_count": 34,
     "metadata": {},
     "output_type": "execute_result"
    }
   ],
   "source": [
    "dicionario = {'Nome' : 'Silvio Monte', 'Idade' : 23, 'Altura' : 1.68}\n",
    "dicionario"
   ]
  },
  {
   "cell_type": "markdown",
   "id": "1287630c",
   "metadata": {},
   "source": [
    "## Converter tipos de variáveis"
   ]
  },
  {
   "cell_type": "markdown",
   "id": "62e896a9",
   "metadata": {},
   "source": [
    "### Para inteiro"
   ]
  },
  {
   "cell_type": "markdown",
   "id": "4cd5bb87",
   "metadata": {},
   "source": [
    "#### String to integer"
   ]
  },
  {
   "cell_type": "code",
   "execution_count": 43,
   "id": "e233ee07",
   "metadata": {},
   "outputs": [
    {
     "name": "stdout",
     "output_type": "stream",
     "text": [
      "<class 'str'>\n",
      "<class 'int'>\n",
      "10\n"
     ]
    }
   ],
   "source": [
    "texto = '10'\n",
    "print(type(texto))\n",
    "resultado = int(texto)\n",
    "print(type(resultado))\n",
    "print(resultado)"
   ]
  },
  {
   "cell_type": "markdown",
   "id": "8fc88693",
   "metadata": {},
   "source": [
    "#### Float to integer"
   ]
  },
  {
   "cell_type": "code",
   "execution_count": 42,
   "id": "61c86469",
   "metadata": {},
   "outputs": [
    {
     "name": "stdout",
     "output_type": "stream",
     "text": [
      "<class 'float'>\n",
      "<class 'int'>\n",
      "1\n"
     ]
    }
   ],
   "source": [
    "x = 1.5\n",
    "print(type(x))\n",
    "resultado = int(x)\n",
    "print(type(resultado))\n",
    "print(resultado)"
   ]
  },
  {
   "cell_type": "markdown",
   "id": "f3a14530",
   "metadata": {},
   "source": [
    "#### Boolean to integer"
   ]
  },
  {
   "cell_type": "code",
   "execution_count": 41,
   "id": "cf1258af",
   "metadata": {},
   "outputs": [
    {
     "name": "stdout",
     "output_type": "stream",
     "text": [
      "<class 'bool'>\n",
      "<class 'int'>\n",
      "1\n"
     ]
    }
   ],
   "source": [
    "valor = True\n",
    "print(type(valor))\n",
    "resultado = int(valor)\n",
    "print(type(resultado))\n",
    "print(resultado)"
   ]
  },
  {
   "cell_type": "markdown",
   "id": "eccde4de",
   "metadata": {},
   "source": [
    "### Para Float"
   ]
  },
  {
   "cell_type": "markdown",
   "id": "ad3855b3",
   "metadata": {},
   "source": [
    "### Integer to float"
   ]
  },
  {
   "cell_type": "code",
   "execution_count": 44,
   "id": "85ec3361",
   "metadata": {},
   "outputs": [
    {
     "name": "stdout",
     "output_type": "stream",
     "text": [
      "<class 'int'>\n",
      "<class 'float'>\n",
      "1.0\n"
     ]
    }
   ],
   "source": [
    "x = 1\n",
    "print(type(x))\n",
    "resultado = float(x)\n",
    "print(type(resultado))\n",
    "print(resultado)"
   ]
  },
  {
   "cell_type": "markdown",
   "id": "13fc2e8d",
   "metadata": {},
   "source": [
    "#### String to float"
   ]
  },
  {
   "cell_type": "code",
   "execution_count": 45,
   "id": "ff3cf8fe",
   "metadata": {},
   "outputs": [
    {
     "name": "stdout",
     "output_type": "stream",
     "text": [
      "<class 'str'>\n",
      "<class 'float'>\n",
      "1.5\n"
     ]
    }
   ],
   "source": [
    "x = '1.5'\n",
    "print(type(x))\n",
    "resultado = float(x)\n",
    "print(type(resultado))\n",
    "print(resultado)"
   ]
  },
  {
   "cell_type": "markdown",
   "id": "64637a5e",
   "metadata": {},
   "source": [
    "#### Boolean to float"
   ]
  },
  {
   "cell_type": "code",
   "execution_count": 47,
   "id": "664c9ff2",
   "metadata": {},
   "outputs": [
    {
     "name": "stdout",
     "output_type": "stream",
     "text": [
      "<class 'bool'>\n",
      "<class 'float'>\n",
      "1.0\n"
     ]
    }
   ],
   "source": [
    "x = True\n",
    "print(type(x))\n",
    "resultado = float(x)\n",
    "print(type(resultado))\n",
    "print(resultado)"
   ]
  },
  {
   "cell_type": "markdown",
   "id": "78c1d750",
   "metadata": {},
   "source": [
    "### Para String"
   ]
  },
  {
   "cell_type": "markdown",
   "id": "208926e2",
   "metadata": {},
   "source": [
    "#### Interger to String"
   ]
  },
  {
   "cell_type": "code",
   "execution_count": 48,
   "id": "0e9fad82",
   "metadata": {},
   "outputs": [
    {
     "name": "stdout",
     "output_type": "stream",
     "text": [
      "<class 'int'>\n",
      "<class 'str'>\n",
      "10\n"
     ]
    }
   ],
   "source": [
    "valor = 10\n",
    "print(type(valor))\n",
    "resultado = str(valor)\n",
    "print(type(resultado))\n",
    "print(resultado)"
   ]
  },
  {
   "cell_type": "markdown",
   "id": "02da34bf",
   "metadata": {},
   "source": [
    "### Boolean to String"
   ]
  },
  {
   "cell_type": "code",
   "execution_count": 50,
   "id": "f255dd7d",
   "metadata": {},
   "outputs": [
    {
     "name": "stdout",
     "output_type": "stream",
     "text": [
      "<class 'bool'>\n",
      "<class 'str'>\n",
      "True\n"
     ]
    }
   ],
   "source": [
    "booleano = True\n",
    "print(type(booleano))\n",
    "resultado = str(booleano)\n",
    "print(type(resultado))\n",
    "print(resultado)"
   ]
  },
  {
   "cell_type": "markdown",
   "id": "36eec207",
   "metadata": {},
   "source": [
    "### Para Boolean"
   ]
  },
  {
   "cell_type": "markdown",
   "id": "da221491",
   "metadata": {},
   "source": [
    "#### Integer to boolean"
   ]
  },
  {
   "cell_type": "code",
   "execution_count": 53,
   "id": "b51566bb",
   "metadata": {},
   "outputs": [
    {
     "name": "stdout",
     "output_type": "stream",
     "text": [
      "<class 'int'>\n",
      "<class 'bool'>\n",
      "True\n"
     ]
    }
   ],
   "source": [
    "inteiro = 1\n",
    "print(type(inteiro))\n",
    "resultado = bool(inteiro)\n",
    "print(type(resultado))\n",
    "print(resultado)"
   ]
  },
  {
   "cell_type": "code",
   "execution_count": null,
   "id": "4ea40736",
   "metadata": {},
   "outputs": [],
   "source": [
    "#### Float to integer"
   ]
  },
  {
   "cell_type": "code",
   "execution_count": null,
   "id": "7240f3c5",
   "metadata": {},
   "outputs": [],
   "source": [
    "inteiro = 1\n",
    "print(type(inteiro))\n",
    "resultado = bool(inteiro)\n",
    "print(type(resultado))\n",
    "print(resultado)"
   ]
  }
 ],
 "metadata": {
  "kernelspec": {
   "display_name": "Python 3",
   "language": "python",
   "name": "python3"
  },
  "language_info": {
   "codemirror_mode": {
    "name": "ipython",
    "version": 3
   },
   "file_extension": ".py",
   "mimetype": "text/x-python",
   "name": "python",
   "nbconvert_exporter": "python",
   "pygments_lexer": "ipython3",
   "version": "3.8.8"
  }
 },
 "nbformat": 4,
 "nbformat_minor": 5
}

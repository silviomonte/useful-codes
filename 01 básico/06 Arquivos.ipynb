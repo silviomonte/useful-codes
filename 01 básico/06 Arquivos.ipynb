{
 "cells": [
  {
   "cell_type": "markdown",
   "id": "c5e6e323",
   "metadata": {},
   "source": [
    "# Arquivos"
   ]
  },
  {
   "cell_type": "markdown",
   "id": "f931a163",
   "metadata": {},
   "source": [
    "## Ler arquivo"
   ]
  },
  {
   "cell_type": "code",
   "execution_count": 1,
   "id": "087e8b44",
   "metadata": {},
   "outputs": [
    {
     "data": {
      "text/plain": [
       "'Arquivo txt modificado \\n Outra linha aqui \\n Mais uma'"
      ]
     },
     "execution_count": 1,
     "metadata": {},
     "output_type": "execute_result"
    }
   ],
   "source": [
    "arquivo = open('../arquivos_e_bases/arquivo_txt.txt', 'r')\n",
    "arquivo.read()"
   ]
  },
  {
   "cell_type": "markdown",
   "id": "af77c885",
   "metadata": {},
   "source": [
    "## Escreve em arquivo"
   ]
  },
  {
   "cell_type": "code",
   "execution_count": 2,
   "id": "6dda786e",
   "metadata": {},
   "outputs": [
    {
     "data": {
      "text/plain": [
       "52"
      ]
     },
     "execution_count": 2,
     "metadata": {},
     "output_type": "execute_result"
    }
   ],
   "source": [
    "arquivo = open('../arquivos_e_bases/arquivo_txt.txt', 'w')\n",
    "arquivo.write('Arquivo txt modificado \\n Outra linha aqui \\n Mais uma')"
   ]
  },
  {
   "cell_type": "markdown",
   "id": "49c23c0f",
   "metadata": {},
   "source": [
    "### Criar uma lista para cada linha do arquivo"
   ]
  },
  {
   "cell_type": "code",
   "execution_count": 3,
   "id": "50769899",
   "metadata": {},
   "outputs": [
    {
     "data": {
      "text/plain": [
       "['Arquivo txt modificado \\n', ' Outra linha aqui \\n', ' Mais uma']"
      ]
     },
     "execution_count": 3,
     "metadata": {},
     "output_type": "execute_result"
    }
   ],
   "source": [
    "arquivo = open('../arquivos_e_bases/arquivo_txt.txt', 'r')\n",
    "arquivo.readlines()"
   ]
  },
  {
   "cell_type": "markdown",
   "id": "74348389",
   "metadata": {},
   "source": [
    "## Encerra o arquivo"
   ]
  },
  {
   "cell_type": "code",
   "execution_count": 4,
   "id": "0dc74615",
   "metadata": {},
   "outputs": [],
   "source": [
    "arquivo.close()"
   ]
  }
 ],
 "metadata": {
  "kernelspec": {
   "display_name": "Python 3",
   "language": "python",
   "name": "python3"
  },
  "language_info": {
   "codemirror_mode": {
    "name": "ipython",
    "version": 3
   },
   "file_extension": ".py",
   "mimetype": "text/x-python",
   "name": "python",
   "nbconvert_exporter": "python",
   "pygments_lexer": "ipython3",
   "version": "3.8.8"
  }
 },
 "nbformat": 4,
 "nbformat_minor": 5
}

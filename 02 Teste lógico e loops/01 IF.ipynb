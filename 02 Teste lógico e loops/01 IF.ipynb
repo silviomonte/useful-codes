{
 "cells": [
  {
   "cell_type": "markdown",
   "id": "0855e386",
   "metadata": {},
   "source": [
    "# IF\n",
    "\n",
    "if <condição>: <br>\n",
    "&nbsp;&nbsp;&nbsp;&nbsp; Funções <br>\n",
    "elif <condição>: <br>\n",
    "&nbsp;&nbsp;&nbsp;&nbsp; Funções <br>\n",
    "else: <br>\n",
    "&nbsp;&nbsp;&nbsp;&nbsp; Funções <br>"
   ]
  },
  {
   "cell_type": "code",
   "execution_count": 1,
   "id": "b2ffd593",
   "metadata": {},
   "outputs": [
    {
     "name": "stdout",
     "output_type": "stream",
     "text": [
      "Dia é 20\n"
     ]
    }
   ],
   "source": [
    "dia = 20\n",
    "if dia == 20:\n",
    "    print('Dia é 20')\n",
    "elif dia > 20:\n",
    "    print('Dia é maior que 20')\n",
    "else:\n",
    "    print('Dia é menor que 20')"
   ]
  }
 ],
 "metadata": {
  "kernelspec": {
   "display_name": "Python 3",
   "language": "python",
   "name": "python3"
  },
  "language_info": {
   "codemirror_mode": {
    "name": "ipython",
    "version": 3
   },
   "file_extension": ".py",
   "mimetype": "text/x-python",
   "name": "python",
   "nbconvert_exporter": "python",
   "pygments_lexer": "ipython3",
   "version": "3.8.8"
  }
 },
 "nbformat": 4,
 "nbformat_minor": 5
}

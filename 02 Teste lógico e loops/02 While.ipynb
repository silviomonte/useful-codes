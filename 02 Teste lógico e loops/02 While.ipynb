{
 "cells": [
  {
   "cell_type": "markdown",
   "id": "b8ed6e39",
   "metadata": {},
   "source": [
    "# While\n",
    "\n",
    "while <condição>: <br>\n",
    "&nbsp;&nbsp;&nbsp;&nbsp; Funções <br>\n",
    "else: (opcional)<br>\n",
    "&nbsp;&nbsp;&nbsp;&nbsp; Funções <br>"
   ]
  },
  {
   "cell_type": "code",
   "execution_count": 2,
   "id": "414dcf73",
   "metadata": {},
   "outputs": [
    {
     "name": "stdout",
     "output_type": "stream",
     "text": [
      "1\n",
      "2\n",
      "3\n",
      "4\n",
      "5\n",
      "6\n",
      "7\n",
      "8\n",
      "9\n",
      "10\n"
     ]
    }
   ],
   "source": [
    "x = 1\n",
    "while x <= 10:\n",
    "    print(x)\n",
    "    x = x + 1"
   ]
  }
 ],
 "metadata": {
  "kernelspec": {
   "display_name": "Python 3",
   "language": "python",
   "name": "python3"
  },
  "language_info": {
   "codemirror_mode": {
    "name": "ipython",
    "version": 3
   },
   "file_extension": ".py",
   "mimetype": "text/x-python",
   "name": "python",
   "nbconvert_exporter": "python",
   "pygments_lexer": "ipython3",
   "version": "3.8.8"
  }
 },
 "nbformat": 4,
 "nbformat_minor": 5
}

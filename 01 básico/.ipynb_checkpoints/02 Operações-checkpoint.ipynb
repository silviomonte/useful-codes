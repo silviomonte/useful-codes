{
 "cells": [
  {
   "cell_type": "markdown",
   "id": "9fc43f7a",
   "metadata": {},
   "source": [
    "# Operações"
   ]
  },
  {
   "cell_type": "markdown",
   "id": "8090b646",
   "metadata": {},
   "source": [
    "## Operações Matemáticas"
   ]
  },
  {
   "cell_type": "markdown",
   "id": "9ca59405",
   "metadata": {},
   "source": [
    "### Soma"
   ]
  },
  {
   "cell_type": "code",
   "execution_count": 5,
   "id": "b1fa0898",
   "metadata": {},
   "outputs": [
    {
     "name": "stdout",
     "output_type": "stream",
     "text": [
      "17\n"
     ]
    }
   ],
   "source": [
    "x = 10\n",
    "y = 7\n",
    "soma = x + y\n",
    "print(soma)"
   ]
  },
  {
   "cell_type": "markdown",
   "id": "c0f2d639",
   "metadata": {},
   "source": [
    "### Subtração"
   ]
  },
  {
   "cell_type": "code",
   "execution_count": 6,
   "id": "6872ab7c",
   "metadata": {},
   "outputs": [
    {
     "name": "stdout",
     "output_type": "stream",
     "text": [
      "3\n"
     ]
    }
   ],
   "source": [
    "x = 10\n",
    "y = 7\n",
    "subtracao = x - y\n",
    "print(subtracao)"
   ]
  },
  {
   "cell_type": "markdown",
   "id": "f260d1d2",
   "metadata": {},
   "source": [
    "### Multiplicação"
   ]
  },
  {
   "cell_type": "code",
   "execution_count": 7,
   "id": "55c5fe2c",
   "metadata": {},
   "outputs": [
    {
     "name": "stdout",
     "output_type": "stream",
     "text": [
      "70\n"
     ]
    }
   ],
   "source": [
    "x = 10\n",
    "y = 7\n",
    "multiplicacao = x * y\n",
    "print(multiplicacao)"
   ]
  },
  {
   "cell_type": "markdown",
   "id": "532e97d9",
   "metadata": {},
   "source": [
    "### Divisão"
   ]
  },
  {
   "cell_type": "code",
   "execution_count": 9,
   "id": "55f29c4f",
   "metadata": {},
   "outputs": [
    {
     "name": "stdout",
     "output_type": "stream",
     "text": [
      "1.4285714285714286\n"
     ]
    }
   ],
   "source": [
    "x = 10\n",
    "y = 7\n",
    "divisao = x / y\n",
    "print(divisao)"
   ]
  },
  {
   "cell_type": "markdown",
   "id": "231f79c2",
   "metadata": {},
   "source": [
    "### Divisão Inteira"
   ]
  },
  {
   "cell_type": "code",
   "execution_count": 10,
   "id": "eb82aa1e",
   "metadata": {},
   "outputs": [
    {
     "name": "stdout",
     "output_type": "stream",
     "text": [
      "1\n"
     ]
    }
   ],
   "source": [
    "x = 10\n",
    "y = 7\n",
    "divisao_inteira = x // y\n",
    "print(divisao_inteira)"
   ]
  },
  {
   "cell_type": "markdown",
   "id": "6f60fe9f",
   "metadata": {},
   "source": [
    "### Módulo"
   ]
  },
  {
   "cell_type": "code",
   "execution_count": 11,
   "id": "126d1dea",
   "metadata": {},
   "outputs": [
    {
     "name": "stdout",
     "output_type": "stream",
     "text": [
      "3\n"
     ]
    }
   ],
   "source": [
    "x = 10\n",
    "y = 7\n",
    "modulo = x % y\n",
    "print(modulo)"
   ]
  },
  {
   "cell_type": "markdown",
   "id": "e7364104",
   "metadata": {},
   "source": [
    "### Valor Absoluto"
   ]
  },
  {
   "cell_type": "code",
   "execution_count": 17,
   "id": "4b18b82b",
   "metadata": {},
   "outputs": [
    {
     "name": "stdout",
     "output_type": "stream",
     "text": [
      "10\n"
     ]
    }
   ],
   "source": [
    "z = -10\n",
    "absoluto = abs(z)\n",
    "print(absoluto)"
   ]
  },
  {
   "cell_type": "markdown",
   "id": "999cb03f",
   "metadata": {},
   "source": [
    "### Potenciação"
   ]
  },
  {
   "cell_type": "code",
   "execution_count": 13,
   "id": "2482ed35",
   "metadata": {},
   "outputs": [
    {
     "name": "stdout",
     "output_type": "stream",
     "text": [
      "10000000\n"
     ]
    }
   ],
   "source": [
    "x = 10\n",
    "y = 7\n",
    "potenciacao = x ** y\n",
    "print(potenciacao)"
   ]
  },
  {
   "cell_type": "markdown",
   "id": "0578d31c",
   "metadata": {},
   "source": [
    "## Operações Lógicas"
   ]
  },
  {
   "cell_type": "markdown",
   "id": "e9f7071f",
   "metadata": {},
   "source": [
    "### And"
   ]
  },
  {
   "cell_type": "code",
   "execution_count": 20,
   "id": "c1baf856",
   "metadata": {},
   "outputs": [
    {
     "name": "stdout",
     "output_type": "stream",
     "text": [
      "False\n"
     ]
    }
   ],
   "source": [
    "variavel_1 = True\n",
    "variavel_2 = False\n",
    "op_and = variavel_1 and variavel_2\n",
    "print(op_and)"
   ]
  },
  {
   "cell_type": "markdown",
   "id": "f9265674",
   "metadata": {},
   "source": [
    "### OR"
   ]
  },
  {
   "cell_type": "code",
   "execution_count": 21,
   "id": "400ff903",
   "metadata": {},
   "outputs": [
    {
     "name": "stdout",
     "output_type": "stream",
     "text": [
      "True\n"
     ]
    }
   ],
   "source": [
    "variavel_1 = True\n",
    "variavel_2 = False\n",
    "op_or = variavel_1 or variavel_2\n",
    "print(op_or)"
   ]
  },
  {
   "cell_type": "markdown",
   "id": "c630c7fa",
   "metadata": {},
   "source": [
    "### NOT"
   ]
  },
  {
   "cell_type": "code",
   "execution_count": 23,
   "id": "d7945c53",
   "metadata": {},
   "outputs": [
    {
     "name": "stdout",
     "output_type": "stream",
     "text": [
      "False\n"
     ]
    }
   ],
   "source": [
    "variavel = True\n",
    "op_not = not variavel\n",
    "print(op_not)"
   ]
  },
  {
   "cell_type": "markdown",
   "id": "72cbcfa8",
   "metadata": {},
   "source": [
    "## Operações de comparação"
   ]
  },
  {
   "cell_type": "markdown",
   "id": "defc3229",
   "metadata": {},
   "source": [
    "### Maior que"
   ]
  },
  {
   "cell_type": "code",
   "execution_count": 24,
   "id": "0fa24060",
   "metadata": {},
   "outputs": [
    {
     "name": "stdout",
     "output_type": "stream",
     "text": [
      "True\n"
     ]
    }
   ],
   "source": [
    "x = 10\n",
    "y = 7\n",
    "maior_que = x > y\n",
    "print(maior_que)"
   ]
  },
  {
   "cell_type": "markdown",
   "id": "b3bdb404",
   "metadata": {},
   "source": [
    "### Maior ou igual que"
   ]
  },
  {
   "cell_type": "code",
   "execution_count": 26,
   "id": "3f9c95a3",
   "metadata": {},
   "outputs": [
    {
     "name": "stdout",
     "output_type": "stream",
     "text": [
      "True\n"
     ]
    }
   ],
   "source": [
    "x = 10\n",
    "y = 10\n",
    "maior_ou_igual_que = x >= y\n",
    "print(maior_ou_igual_que)"
   ]
  },
  {
   "cell_type": "markdown",
   "id": "f262c88c",
   "metadata": {},
   "source": [
    "### Menor que"
   ]
  },
  {
   "cell_type": "code",
   "execution_count": 25,
   "id": "5d7ce357",
   "metadata": {},
   "outputs": [
    {
     "name": "stdout",
     "output_type": "stream",
     "text": [
      "False\n"
     ]
    }
   ],
   "source": [
    "x = 10\n",
    "y = 7\n",
    "menor_que = x < y\n",
    "print(menor_que)"
   ]
  },
  {
   "cell_type": "markdown",
   "id": "12ec282a",
   "metadata": {},
   "source": [
    "### Menor ou igual que"
   ]
  },
  {
   "cell_type": "code",
   "execution_count": 27,
   "id": "da8532bd",
   "metadata": {},
   "outputs": [
    {
     "name": "stdout",
     "output_type": "stream",
     "text": [
      "True\n"
     ]
    }
   ],
   "source": [
    "x = 10\n",
    "y = 10\n",
    "menor_ou_igual_que = x <= y\n",
    "print(menor_ou_igual_que)"
   ]
  },
  {
   "cell_type": "markdown",
   "id": "82e233fe",
   "metadata": {},
   "source": [
    "### Igual"
   ]
  },
  {
   "cell_type": "code",
   "execution_count": 28,
   "id": "92ee2132",
   "metadata": {},
   "outputs": [
    {
     "name": "stdout",
     "output_type": "stream",
     "text": [
      "False\n"
     ]
    }
   ],
   "source": [
    "x = 10\n",
    "y = '10'\n",
    "igual = x == y\n",
    "print(igual)"
   ]
  }
 ],
 "metadata": {
  "kernelspec": {
   "display_name": "Python 3",
   "language": "python",
   "name": "python3"
  },
  "language_info": {
   "codemirror_mode": {
    "name": "ipython",
    "version": 3
   },
   "file_extension": ".py",
   "mimetype": "text/x-python",
   "name": "python",
   "nbconvert_exporter": "python",
   "pygments_lexer": "ipython3",
   "version": "3.8.8"
  }
 },
 "nbformat": 4,
 "nbformat_minor": 5
}

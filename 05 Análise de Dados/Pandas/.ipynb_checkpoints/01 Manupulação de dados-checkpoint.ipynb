{
 "cells": [
  {
   "cell_type": "markdown",
   "id": "b598633c",
   "metadata": {},
   "source": [
    "# Pandas"
   ]
  },
  {
   "cell_type": "markdown",
   "id": "90e608cb",
   "metadata": {},
   "source": [
    "## Índice\n",
    "\n",
    "1 [Carragar bases](#1.-Carregar-bases)<br>\n",
    "&nbsp;&nbsp;&nbsp;&nbsp; 1.1 [Carregar CSV](#1.1-Carregar-CSV)<br>\n",
    "&nbsp;&nbsp;&nbsp;&nbsp; &nbsp;&nbsp;&nbsp;&nbsp; 1.1.1 [Carregar CSV separado por ponto e vírgula](#1.1.1-Carregar-CSV-separado-por-ponto-e-vírgula)<br>\n",
    "&nbsp;&nbsp;&nbsp;&nbsp; 1.2 [Carregar Excel](#1.2-Carregar-Excel)<br>\n",
    "&nbsp;&nbsp;&nbsp;&nbsp; 1.3 [Resolvendo problemas com acentos](#1.3-Resolvendo-problemas-com-acentos)<br>\n",
    "&nbsp;&nbsp;&nbsp;&nbsp; 1.4 [Alterando nome das colunas](#1.4-Alterando-nome-das-colunas)<br><br>\n",
    "2 [Criando Dataframes e Series](#2-Criando-Dataframes-e-Series)<br>\n",
    "&nbsp;&nbsp;&nbsp;&nbsp; 2.1 [Criando Series](#2.1-Criando-Series)<br>\n",
    "&nbsp;&nbsp;&nbsp;&nbsp; 2.2 [Criando Dataframes](#2.2-Criando-Dataframes)<br>\n",
    "\n",
    "\n",
    "\n",
    "<br><br>3 (Em construção)<br><br>\n",
    "4 (Em construção)<br><br>\n",
    "5 (Em construção)<br><br>\n",
    "6 (Em construção)<br><br>\n",
    "7 (Em construção)<br><br>"
   ]
  },
  {
   "cell_type": "markdown",
   "id": "69418336",
   "metadata": {},
   "source": [
    "#### Importando o Pandas"
   ]
  },
  {
   "cell_type": "code",
   "execution_count": 2,
   "id": "aad20fe2",
   "metadata": {},
   "outputs": [],
   "source": [
    "import pandas as pd"
   ]
  },
  {
   "cell_type": "markdown",
   "id": "7fcfd6f8",
   "metadata": {},
   "source": [
    "## 1. Carregar bases\n",
    "[Voltar para o índice](#Índice)"
   ]
  },
  {
   "cell_type": "markdown",
   "id": "15e88db6",
   "metadata": {},
   "source": [
    "### 1.1 Carregar CSV\n",
    "[Voltar para o índice](#Índice)"
   ]
  },
  {
   "cell_type": "code",
   "execution_count": 3,
   "id": "2f235f70",
   "metadata": {},
   "outputs": [
    {
     "data": {
      "text/html": [
       "<div>\n",
       "<style scoped>\n",
       "    .dataframe tbody tr th:only-of-type {\n",
       "        vertical-align: middle;\n",
       "    }\n",
       "\n",
       "    .dataframe tbody tr th {\n",
       "        vertical-align: top;\n",
       "    }\n",
       "\n",
       "    .dataframe thead th {\n",
       "        text-align: right;\n",
       "    }\n",
       "</style>\n",
       "<table border=\"1\" class=\"dataframe\">\n",
       "  <thead>\n",
       "    <tr style=\"text-align: right;\">\n",
       "      <th></th>\n",
       "      <th>Nome</th>\n",
       "      <th>Email</th>\n",
       "      <th>Telefone</th>\n",
       "      <th>Cidade</th>\n",
       "      <th>Estado</th>\n",
       "    </tr>\n",
       "  </thead>\n",
       "  <tbody>\n",
       "    <tr>\n",
       "      <th>0</th>\n",
       "      <td>Silvio Monte</td>\n",
       "      <td>silvio@silviomonte.com.br</td>\n",
       "      <td>(81) 99215.2084</td>\n",
       "      <td>Recife</td>\n",
       "      <td>PE</td>\n",
       "    </tr>\n",
       "    <tr>\n",
       "      <th>1</th>\n",
       "      <td>Indra Escobar</td>\n",
       "      <td>indra@escobar.com</td>\n",
       "      <td>(81) 98655.2356</td>\n",
       "      <td>Arcoverde</td>\n",
       "      <td>PE</td>\n",
       "    </tr>\n",
       "    <tr>\n",
       "      <th>2</th>\n",
       "      <td>Jack Johnson</td>\n",
       "      <td>jack@jackjohnson.com</td>\n",
       "      <td>(83) 32566.6536</td>\n",
       "      <td>Jo�o Pessoa</td>\n",
       "      <td>PB</td>\n",
       "    </tr>\n",
       "    <tr>\n",
       "      <th>3</th>\n",
       "      <td>Jimmy Hendrix</td>\n",
       "      <td>jummy@nonemail.com</td>\n",
       "      <td>(11) 36523.1576</td>\n",
       "      <td>S�o Paulo</td>\n",
       "      <td>SP</td>\n",
       "    </tr>\n",
       "  </tbody>\n",
       "</table>\n",
       "</div>"
      ],
      "text/plain": [
       "            Nome                      Email         Telefone       Cidade  \\\n",
       "0   Silvio Monte  silvio@silviomonte.com.br  (81) 99215.2084       Recife   \n",
       "1  Indra Escobar          indra@escobar.com  (81) 98655.2356    Arcoverde   \n",
       "2   Jack Johnson       jack@jackjohnson.com  (83) 32566.6536  Jo�o Pessoa   \n",
       "3  Jimmy Hendrix         jummy@nonemail.com  (11) 36523.1576    S�o Paulo   \n",
       "\n",
       "  Estado  \n",
       "0     PE  \n",
       "1     PE  \n",
       "2     PB  \n",
       "3     SP  "
      ]
     },
     "execution_count": 3,
     "metadata": {},
     "output_type": "execute_result"
    }
   ],
   "source": [
    "base = pd.read_csv('../../arquivos_e_bases/arquivo_csv.csv')\n",
    "base"
   ]
  },
  {
   "cell_type": "markdown",
   "id": "6254efa7",
   "metadata": {},
   "source": [
    "#### 1.1.1 Carregar CSV separado por ponto e vírgula\n",
    "[Voltar para o índice](#Índice)"
   ]
  },
  {
   "cell_type": "code",
   "execution_count": 6,
   "id": "8cbd6a65",
   "metadata": {},
   "outputs": [
    {
     "data": {
      "text/html": [
       "<div>\n",
       "<style scoped>\n",
       "    .dataframe tbody tr th:only-of-type {\n",
       "        vertical-align: middle;\n",
       "    }\n",
       "\n",
       "    .dataframe tbody tr th {\n",
       "        vertical-align: top;\n",
       "    }\n",
       "\n",
       "    .dataframe thead th {\n",
       "        text-align: right;\n",
       "    }\n",
       "</style>\n",
       "<table border=\"1\" class=\"dataframe\">\n",
       "  <thead>\n",
       "    <tr style=\"text-align: right;\">\n",
       "      <th></th>\n",
       "      <th>Nome</th>\n",
       "      <th>Email</th>\n",
       "      <th>Telefone</th>\n",
       "      <th>Cidade</th>\n",
       "      <th>Estado</th>\n",
       "    </tr>\n",
       "  </thead>\n",
       "  <tbody>\n",
       "    <tr>\n",
       "      <th>0</th>\n",
       "      <td>Silvio Monte</td>\n",
       "      <td>silvio@silviomonte.com.br</td>\n",
       "      <td>(81) 99215.2084</td>\n",
       "      <td>Recife</td>\n",
       "      <td>PE</td>\n",
       "    </tr>\n",
       "    <tr>\n",
       "      <th>1</th>\n",
       "      <td>Indra Escobar</td>\n",
       "      <td>indra@escobar.com</td>\n",
       "      <td>(81) 98655.2356</td>\n",
       "      <td>Arcoverde</td>\n",
       "      <td>PE</td>\n",
       "    </tr>\n",
       "    <tr>\n",
       "      <th>2</th>\n",
       "      <td>Jack Johnson</td>\n",
       "      <td>jack@jackjohnson.com</td>\n",
       "      <td>(83) 32566.6536</td>\n",
       "      <td>Jo�o Pessoa</td>\n",
       "      <td>PB</td>\n",
       "    </tr>\n",
       "    <tr>\n",
       "      <th>3</th>\n",
       "      <td>Jimmy Hendrix</td>\n",
       "      <td>jummy@nonemail.com</td>\n",
       "      <td>(11) 36523.1576</td>\n",
       "      <td>S�o Paulo</td>\n",
       "      <td>SP</td>\n",
       "    </tr>\n",
       "  </tbody>\n",
       "</table>\n",
       "</div>"
      ],
      "text/plain": [
       "            Nome                      Email         Telefone       Cidade  \\\n",
       "0   Silvio Monte  silvio@silviomonte.com.br  (81) 99215.2084       Recife   \n",
       "1  Indra Escobar          indra@escobar.com  (81) 98655.2356    Arcoverde   \n",
       "2   Jack Johnson       jack@jackjohnson.com  (83) 32566.6536  Jo�o Pessoa   \n",
       "3  Jimmy Hendrix         jummy@nonemail.com  (11) 36523.1576    S�o Paulo   \n",
       "\n",
       "  Estado  \n",
       "0     PE  \n",
       "1     PE  \n",
       "2     PB  \n",
       "3     SP  "
      ]
     },
     "execution_count": 6,
     "metadata": {},
     "output_type": "execute_result"
    }
   ],
   "source": [
    "base = pd.read_csv('../../arquivos_e_bases/arquivo_csv_separado_por_ponto_e_virgula.csv', sep=';')\n",
    "base"
   ]
  },
  {
   "cell_type": "markdown",
   "id": "e0b15e38",
   "metadata": {},
   "source": [
    "### 1.2 Carregar Excel\n",
    "[Voltar para o índice](#Índice)"
   ]
  },
  {
   "cell_type": "code",
   "execution_count": 4,
   "id": "7ceb1d52",
   "metadata": {},
   "outputs": [
    {
     "data": {
      "text/html": [
       "<div>\n",
       "<style scoped>\n",
       "    .dataframe tbody tr th:only-of-type {\n",
       "        vertical-align: middle;\n",
       "    }\n",
       "\n",
       "    .dataframe tbody tr th {\n",
       "        vertical-align: top;\n",
       "    }\n",
       "\n",
       "    .dataframe thead th {\n",
       "        text-align: right;\n",
       "    }\n",
       "</style>\n",
       "<table border=\"1\" class=\"dataframe\">\n",
       "  <thead>\n",
       "    <tr style=\"text-align: right;\">\n",
       "      <th></th>\n",
       "      <th>Nome</th>\n",
       "      <th>Email</th>\n",
       "      <th>Telefone</th>\n",
       "      <th>Cidade</th>\n",
       "      <th>Estado</th>\n",
       "    </tr>\n",
       "  </thead>\n",
       "  <tbody>\n",
       "    <tr>\n",
       "      <th>0</th>\n",
       "      <td>Silvio Monte</td>\n",
       "      <td>silvio@silviomonte.com.br</td>\n",
       "      <td>(81) 99215.2084</td>\n",
       "      <td>Recife</td>\n",
       "      <td>PE</td>\n",
       "    </tr>\n",
       "    <tr>\n",
       "      <th>1</th>\n",
       "      <td>Indra Escobar</td>\n",
       "      <td>indra@escobar.com</td>\n",
       "      <td>(81) 98655.2356</td>\n",
       "      <td>Arcoverde</td>\n",
       "      <td>PE</td>\n",
       "    </tr>\n",
       "    <tr>\n",
       "      <th>2</th>\n",
       "      <td>Jack Johnson</td>\n",
       "      <td>jack@jackjohnson.com</td>\n",
       "      <td>(83) 32566.6536</td>\n",
       "      <td>João Pessoa</td>\n",
       "      <td>PB</td>\n",
       "    </tr>\n",
       "    <tr>\n",
       "      <th>3</th>\n",
       "      <td>Jimmy Hendrix</td>\n",
       "      <td>jummy@nonemail.com</td>\n",
       "      <td>(11) 36523.1576</td>\n",
       "      <td>São Paulo</td>\n",
       "      <td>SP</td>\n",
       "    </tr>\n",
       "  </tbody>\n",
       "</table>\n",
       "</div>"
      ],
      "text/plain": [
       "            Nome                      Email         Telefone       Cidade  \\\n",
       "0   Silvio Monte  silvio@silviomonte.com.br  (81) 99215.2084       Recife   \n",
       "1  Indra Escobar          indra@escobar.com  (81) 98655.2356    Arcoverde   \n",
       "2   Jack Johnson       jack@jackjohnson.com  (83) 32566.6536  João Pessoa   \n",
       "3  Jimmy Hendrix         jummy@nonemail.com  (11) 36523.1576    São Paulo   \n",
       "\n",
       "  Estado  \n",
       "0     PE  \n",
       "1     PE  \n",
       "2     PB  \n",
       "3     SP  "
      ]
     },
     "execution_count": 4,
     "metadata": {},
     "output_type": "execute_result"
    }
   ],
   "source": [
    "base = pd.read_excel('../../arquivos_e_bases/arquivo_excel.xlsx')\n",
    "base"
   ]
  },
  {
   "cell_type": "markdown",
   "id": "92de25a1",
   "metadata": {},
   "source": [
    "### 1.3 Resolvendo problemas com acentos\n",
    "[Voltar para o índice](#Índice)"
   ]
  },
  {
   "cell_type": "code",
   "execution_count": 9,
   "id": "40aaa9f4",
   "metadata": {},
   "outputs": [
    {
     "data": {
      "text/html": [
       "<div>\n",
       "<style scoped>\n",
       "    .dataframe tbody tr th:only-of-type {\n",
       "        vertical-align: middle;\n",
       "    }\n",
       "\n",
       "    .dataframe tbody tr th {\n",
       "        vertical-align: top;\n",
       "    }\n",
       "\n",
       "    .dataframe thead th {\n",
       "        text-align: right;\n",
       "    }\n",
       "</style>\n",
       "<table border=\"1\" class=\"dataframe\">\n",
       "  <thead>\n",
       "    <tr style=\"text-align: right;\">\n",
       "      <th></th>\n",
       "      <th>Nome</th>\n",
       "      <th>Email</th>\n",
       "      <th>Telefone</th>\n",
       "      <th>Cidade</th>\n",
       "      <th>Estado</th>\n",
       "    </tr>\n",
       "  </thead>\n",
       "  <tbody>\n",
       "    <tr>\n",
       "      <th>0</th>\n",
       "      <td>Silvio Monte</td>\n",
       "      <td>silvio@silviomonte.com.br</td>\n",
       "      <td>(81) 99215.2084</td>\n",
       "      <td>Recife</td>\n",
       "      <td>PE</td>\n",
       "    </tr>\n",
       "    <tr>\n",
       "      <th>1</th>\n",
       "      <td>Indra Escobar</td>\n",
       "      <td>indra@escobar.com</td>\n",
       "      <td>(81) 98655.2356</td>\n",
       "      <td>Arcoverde</td>\n",
       "      <td>PE</td>\n",
       "    </tr>\n",
       "    <tr>\n",
       "      <th>2</th>\n",
       "      <td>Jack Johnson</td>\n",
       "      <td>jack@jackjohnson.com</td>\n",
       "      <td>(83) 32566.6536</td>\n",
       "      <td>João Pessoa</td>\n",
       "      <td>PB</td>\n",
       "    </tr>\n",
       "    <tr>\n",
       "      <th>3</th>\n",
       "      <td>Jimmy Hendrix</td>\n",
       "      <td>jummy@nonemail.com</td>\n",
       "      <td>(11) 36523.1576</td>\n",
       "      <td>São Paulo</td>\n",
       "      <td>SP</td>\n",
       "    </tr>\n",
       "  </tbody>\n",
       "</table>\n",
       "</div>"
      ],
      "text/plain": [
       "            Nome                      Email         Telefone       Cidade  \\\n",
       "0   Silvio Monte  silvio@silviomonte.com.br  (81) 99215.2084       Recife   \n",
       "1  Indra Escobar          indra@escobar.com  (81) 98655.2356    Arcoverde   \n",
       "2   Jack Johnson       jack@jackjohnson.com  (83) 32566.6536  João Pessoa   \n",
       "3  Jimmy Hendrix         jummy@nonemail.com  (11) 36523.1576    São Paulo   \n",
       "\n",
       "  Estado  \n",
       "0     PE  \n",
       "1     PE  \n",
       "2     PB  \n",
       "3     SP  "
      ]
     },
     "execution_count": 9,
     "metadata": {},
     "output_type": "execute_result"
    }
   ],
   "source": [
    "base = pd.read_csv('../../arquivos_e_bases/arquivo_csv.csv', encoding='latin1')\n",
    "base"
   ]
  },
  {
   "cell_type": "markdown",
   "id": "f06f6263",
   "metadata": {},
   "source": [
    "### 1.4 Alterando nome das colunas\n",
    "[Voltar para o índice](#Índice)"
   ]
  },
  {
   "cell_type": "code",
   "execution_count": 10,
   "id": "c5a3b2e4",
   "metadata": {},
   "outputs": [
    {
     "data": {
      "text/html": [
       "<div>\n",
       "<style scoped>\n",
       "    .dataframe tbody tr th:only-of-type {\n",
       "        vertical-align: middle;\n",
       "    }\n",
       "\n",
       "    .dataframe tbody tr th {\n",
       "        vertical-align: top;\n",
       "    }\n",
       "\n",
       "    .dataframe thead th {\n",
       "        text-align: right;\n",
       "    }\n",
       "</style>\n",
       "<table border=\"1\" class=\"dataframe\">\n",
       "  <thead>\n",
       "    <tr style=\"text-align: right;\">\n",
       "      <th></th>\n",
       "      <th>nome_completo</th>\n",
       "      <th>email</th>\n",
       "      <th>telefone_com_ddd</th>\n",
       "      <th>cidade</th>\n",
       "      <th>uf</th>\n",
       "    </tr>\n",
       "  </thead>\n",
       "  <tbody>\n",
       "    <tr>\n",
       "      <th>0</th>\n",
       "      <td>Nome</td>\n",
       "      <td>Email</td>\n",
       "      <td>Telefone</td>\n",
       "      <td>Cidade</td>\n",
       "      <td>Estado</td>\n",
       "    </tr>\n",
       "    <tr>\n",
       "      <th>1</th>\n",
       "      <td>Silvio Monte</td>\n",
       "      <td>silvio@silviomonte.com.br</td>\n",
       "      <td>(81) 99215.2084</td>\n",
       "      <td>Recife</td>\n",
       "      <td>PE</td>\n",
       "    </tr>\n",
       "    <tr>\n",
       "      <th>2</th>\n",
       "      <td>Indra Escobar</td>\n",
       "      <td>indra@escobar.com</td>\n",
       "      <td>(81) 98655.2356</td>\n",
       "      <td>Arcoverde</td>\n",
       "      <td>PE</td>\n",
       "    </tr>\n",
       "    <tr>\n",
       "      <th>3</th>\n",
       "      <td>Jack Johnson</td>\n",
       "      <td>jack@jackjohnson.com</td>\n",
       "      <td>(83) 32566.6536</td>\n",
       "      <td>Jo�o Pessoa</td>\n",
       "      <td>PB</td>\n",
       "    </tr>\n",
       "    <tr>\n",
       "      <th>4</th>\n",
       "      <td>Jimmy Hendrix</td>\n",
       "      <td>jummy@nonemail.com</td>\n",
       "      <td>(11) 36523.1576</td>\n",
       "      <td>S�o Paulo</td>\n",
       "      <td>SP</td>\n",
       "    </tr>\n",
       "  </tbody>\n",
       "</table>\n",
       "</div>"
      ],
      "text/plain": [
       "   nome_completo                      email telefone_com_ddd       cidade  \\\n",
       "0           Nome                      Email         Telefone       Cidade   \n",
       "1   Silvio Monte  silvio@silviomonte.com.br  (81) 99215.2084       Recife   \n",
       "2  Indra Escobar          indra@escobar.com  (81) 98655.2356    Arcoverde   \n",
       "3   Jack Johnson       jack@jackjohnson.com  (83) 32566.6536  Jo�o Pessoa   \n",
       "4  Jimmy Hendrix         jummy@nonemail.com  (11) 36523.1576    S�o Paulo   \n",
       "\n",
       "       uf  \n",
       "0  Estado  \n",
       "1      PE  \n",
       "2      PE  \n",
       "3      PB  \n",
       "4      SP  "
      ]
     },
     "execution_count": 10,
     "metadata": {},
     "output_type": "execute_result"
    }
   ],
   "source": [
    "base = pd.read_csv('../../arquivos_e_bases/arquivo_csv.csv', names=['nome_completo', 'email', 'telefone_com_ddd', 'cidade', 'uf'])\n",
    "base"
   ]
  },
  {
   "cell_type": "markdown",
   "id": "93e65054",
   "metadata": {},
   "source": [
    "## 2 Criando Dataframes e Series\n",
    "[Voltar para o índice](#Índice)"
   ]
  },
  {
   "cell_type": "markdown",
   "id": "d316261f",
   "metadata": {},
   "source": [
    "### 2.1 Criando Series\n",
    "\n",
    "Series é um conjunto de dados que só pode ter uma única dimensão, ou seja, uma única coluna\n",
    "<br>[Voltar para o índice](#Índice)"
   ]
  },
  {
   "cell_type": "code",
   "execution_count": 8,
   "id": "09985e7f",
   "metadata": {},
   "outputs": [
    {
     "data": {
      "text/plain": [
       "Marido      Silvio Monte\n",
       "Esposa     Indra Escobar\n",
       "Mãe        Neide Muhlert\n",
       "Sogro     Arturo Escobar\n",
       "dtype: object"
      ]
     },
     "execution_count": 8,
     "metadata": {},
     "output_type": "execute_result"
    }
   ],
   "source": [
    "series = pd.Series(['Silvio Monte', 'Indra Escobar', 'Neide Muhlert', 'Arturo Escobar'],\n",
    "                     index=['Marido', 'Esposa', 'Mãe', 'Sogro'])\n",
    "series"
   ]
  },
  {
   "cell_type": "code",
   "execution_count": null,
   "id": "9e3524b7",
   "metadata": {},
   "outputs": [],
   "source": [
    "series = pd.Series(['Silvio Monte', 'Indra Escobar', 'Neide Muhlert', 'Arturo Escobar'])\n",
    "series"
   ]
  },
  {
   "cell_type": "markdown",
   "id": "fe81d2d1",
   "metadata": {},
   "source": [
    "### 2.2 Criando Dataframes\n",
    "\n",
    "Dataframes é um conjunto de dados que pode ter uma ou mais dimensões, ou seja, pode conter várias colunas\n",
    "<br>[Voltar para o índice](#Índice)"
   ]
  },
  {
   "cell_type": "code",
   "execution_count": 6,
   "id": "bddf198c",
   "metadata": {},
   "outputs": [
    {
     "data": {
      "text/html": [
       "<div>\n",
       "<style scoped>\n",
       "    .dataframe tbody tr th:only-of-type {\n",
       "        vertical-align: middle;\n",
       "    }\n",
       "\n",
       "    .dataframe tbody tr th {\n",
       "        vertical-align: top;\n",
       "    }\n",
       "\n",
       "    .dataframe thead th {\n",
       "        text-align: right;\n",
       "    }\n",
       "</style>\n",
       "<table border=\"1\" class=\"dataframe\">\n",
       "  <thead>\n",
       "    <tr style=\"text-align: right;\">\n",
       "      <th></th>\n",
       "      <th>0</th>\n",
       "    </tr>\n",
       "  </thead>\n",
       "  <tbody>\n",
       "    <tr>\n",
       "      <th>0</th>\n",
       "      <td>Silvio Monte</td>\n",
       "    </tr>\n",
       "    <tr>\n",
       "      <th>1</th>\n",
       "      <td>Indra Escobar</td>\n",
       "    </tr>\n",
       "    <tr>\n",
       "      <th>2</th>\n",
       "      <td>Neide Muhlert</td>\n",
       "    </tr>\n",
       "    <tr>\n",
       "      <th>3</th>\n",
       "      <td>Arturo Escobar</td>\n",
       "    </tr>\n",
       "  </tbody>\n",
       "</table>\n",
       "</div>"
      ],
      "text/plain": [
       "                0\n",
       "0    Silvio Monte\n",
       "1   Indra Escobar\n",
       "2   Neide Muhlert\n",
       "3  Arturo Escobar"
      ]
     },
     "execution_count": 6,
     "metadata": {},
     "output_type": "execute_result"
    }
   ],
   "source": [
    "dataframe = pd.DataFrame(['Silvio Monte', 'Indra Escobar', 'Neide Muhlert', 'Arturo Escobar'])\n",
    "dataframe"
   ]
  },
  {
   "cell_type": "code",
   "execution_count": 7,
   "id": "18678878",
   "metadata": {},
   "outputs": [
    {
     "data": {
      "text/html": [
       "<div>\n",
       "<style scoped>\n",
       "    .dataframe tbody tr th:only-of-type {\n",
       "        vertical-align: middle;\n",
       "    }\n",
       "\n",
       "    .dataframe tbody tr th {\n",
       "        vertical-align: top;\n",
       "    }\n",
       "\n",
       "    .dataframe thead th {\n",
       "        text-align: right;\n",
       "    }\n",
       "</style>\n",
       "<table border=\"1\" class=\"dataframe\">\n",
       "  <thead>\n",
       "    <tr style=\"text-align: right;\">\n",
       "      <th></th>\n",
       "      <th>0</th>\n",
       "    </tr>\n",
       "  </thead>\n",
       "  <tbody>\n",
       "    <tr>\n",
       "      <th>Marido</th>\n",
       "      <td>Silvio Monte</td>\n",
       "    </tr>\n",
       "    <tr>\n",
       "      <th>Esposa</th>\n",
       "      <td>Indra Escobar</td>\n",
       "    </tr>\n",
       "    <tr>\n",
       "      <th>Mãe</th>\n",
       "      <td>Neide Muhlert</td>\n",
       "    </tr>\n",
       "    <tr>\n",
       "      <th>Sogro</th>\n",
       "      <td>Arturo Escobar</td>\n",
       "    </tr>\n",
       "  </tbody>\n",
       "</table>\n",
       "</div>"
      ],
      "text/plain": [
       "                     0\n",
       "Marido    Silvio Monte\n",
       "Esposa   Indra Escobar\n",
       "Mãe      Neide Muhlert\n",
       "Sogro   Arturo Escobar"
      ]
     },
     "execution_count": 7,
     "metadata": {},
     "output_type": "execute_result"
    }
   ],
   "source": [
    "dataframe = pd.DataFrame(['Silvio Monte', 'Indra Escobar', 'Neide Muhlert', 'Arturo Escobar'],\n",
    "                     index=['Marido', 'Esposa', 'Mãe', 'Sogro'])\n",
    "dataframe"
   ]
  },
  {
   "cell_type": "code",
   "execution_count": 10,
   "id": "6861f7ce",
   "metadata": {},
   "outputs": [
    {
     "data": {
      "text/html": [
       "<div>\n",
       "<style scoped>\n",
       "    .dataframe tbody tr th:only-of-type {\n",
       "        vertical-align: middle;\n",
       "    }\n",
       "\n",
       "    .dataframe tbody tr th {\n",
       "        vertical-align: top;\n",
       "    }\n",
       "\n",
       "    .dataframe thead th {\n",
       "        text-align: right;\n",
       "    }\n",
       "</style>\n",
       "<table border=\"1\" class=\"dataframe\">\n",
       "  <thead>\n",
       "    <tr style=\"text-align: right;\">\n",
       "      <th></th>\n",
       "      <th>Nome</th>\n",
       "      <th>Parentesco</th>\n",
       "    </tr>\n",
       "  </thead>\n",
       "  <tbody>\n",
       "    <tr>\n",
       "      <th>0</th>\n",
       "      <td>Silvio Monte</td>\n",
       "      <td>Marido</td>\n",
       "    </tr>\n",
       "    <tr>\n",
       "      <th>1</th>\n",
       "      <td>Indra Escobar</td>\n",
       "      <td>Esposa</td>\n",
       "    </tr>\n",
       "    <tr>\n",
       "      <th>2</th>\n",
       "      <td>Neide Muhlert</td>\n",
       "      <td>Mãe</td>\n",
       "    </tr>\n",
       "    <tr>\n",
       "      <th>3</th>\n",
       "      <td>Arturo Escobar</td>\n",
       "      <td>Sogro</td>\n",
       "    </tr>\n",
       "  </tbody>\n",
       "</table>\n",
       "</div>"
      ],
      "text/plain": [
       "             Nome Parentesco\n",
       "0    Silvio Monte     Marido\n",
       "1   Indra Escobar     Esposa\n",
       "2   Neide Muhlert        Mãe\n",
       "3  Arturo Escobar      Sogro"
      ]
     },
     "execution_count": 10,
     "metadata": {},
     "output_type": "execute_result"
    }
   ],
   "source": [
    "data = {'Nome' : ['Silvio Monte', 'Indra Escobar', 'Neide Muhlert', 'Arturo Escobar'],\n",
    "                     'Parentesco': ['Marido', 'Esposa', 'Mãe', 'Sogro']}\n",
    "dataframe = pd.DataFrame(data)\n",
    "dataframe"
   ]
  },
  {
   "cell_type": "code",
   "execution_count": null,
   "id": "3b522339",
   "metadata": {},
   "outputs": [],
   "source": []
  },
  {
   "cell_type": "code",
   "execution_count": null,
   "id": "b349534c",
   "metadata": {},
   "outputs": [],
   "source": []
  },
  {
   "cell_type": "code",
   "execution_count": null,
   "id": "c3d344e7",
   "metadata": {},
   "outputs": [],
   "source": []
  }
 ],
 "metadata": {
  "kernelspec": {
   "display_name": "Python 3",
   "language": "python",
   "name": "python3"
  },
  "language_info": {
   "codemirror_mode": {
    "name": "ipython",
    "version": 3
   },
   "file_extension": ".py",
   "mimetype": "text/x-python",
   "name": "python",
   "nbconvert_exporter": "python",
   "pygments_lexer": "ipython3",
   "version": "3.8.8"
  }
 },
 "nbformat": 4,
 "nbformat_minor": 5
}

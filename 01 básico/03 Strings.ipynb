{
 "cells": [
  {
   "cell_type": "markdown",
   "id": "49a0de8b",
   "metadata": {},
   "source": [
    "# Strings"
   ]
  },
  {
   "cell_type": "markdown",
   "id": "97a48dbf",
   "metadata": {},
   "source": [
    "## Concatenação"
   ]
  },
  {
   "cell_type": "code",
   "execution_count": 2,
   "id": "57c4608f",
   "metadata": {},
   "outputs": [
    {
     "name": "stdout",
     "output_type": "stream",
     "text": [
      "Silvio Monte\n"
     ]
    }
   ],
   "source": [
    "string_1 = 'Silvio '\n",
    "string_2 = 'Monte'\n",
    "nova_string = string_1 + string_2\n",
    "print(nova_string)"
   ]
  },
  {
   "cell_type": "markdown",
   "id": "0a29c87e",
   "metadata": {},
   "source": [
    "## Comparações"
   ]
  },
  {
   "cell_type": "code",
   "execution_count": 4,
   "id": "36401683",
   "metadata": {},
   "outputs": [],
   "source": [
    "string_1 = 'Silvio'\n",
    "string_2 = 'Monte'"
   ]
  },
  {
   "cell_type": "code",
   "execution_count": 5,
   "id": "1ca331bd",
   "metadata": {},
   "outputs": [
    {
     "name": "stdout",
     "output_type": "stream",
     "text": [
      "True\n"
     ]
    }
   ],
   "source": [
    "comparacao_string = string_1 > string_2\n",
    "print(comparacao_string)"
   ]
  },
  {
   "cell_type": "code",
   "execution_count": 6,
   "id": "74cbf4bf",
   "metadata": {},
   "outputs": [
    {
     "name": "stdout",
     "output_type": "stream",
     "text": [
      "False\n"
     ]
    }
   ],
   "source": [
    "comparacao_string = string_1 < string_2\n",
    "print(comparacao_string)"
   ]
  },
  {
   "cell_type": "code",
   "execution_count": 7,
   "id": "e795307a",
   "metadata": {},
   "outputs": [
    {
     "name": "stdout",
     "output_type": "stream",
     "text": [
      "True\n"
     ]
    }
   ],
   "source": [
    "comparacao_string = string_1 >= string_2\n",
    "print(comparacao_string)"
   ]
  },
  {
   "cell_type": "code",
   "execution_count": 8,
   "id": "fa61941e",
   "metadata": {},
   "outputs": [
    {
     "name": "stdout",
     "output_type": "stream",
     "text": [
      "False\n"
     ]
    }
   ],
   "source": [
    "comparacao_string = string_1 <= string_2\n",
    "print(comparacao_string)"
   ]
  },
  {
   "cell_type": "code",
   "execution_count": 9,
   "id": "5ecb3d22",
   "metadata": {},
   "outputs": [
    {
     "name": "stdout",
     "output_type": "stream",
     "text": [
      "False\n"
     ]
    }
   ],
   "source": [
    "comparacao_string = string_1 == string_2\n",
    "print(comparacao_string)"
   ]
  },
  {
   "cell_type": "markdown",
   "id": "4c8f935d",
   "metadata": {},
   "source": [
    "## Funções"
   ]
  },
  {
   "cell_type": "markdown",
   "id": "2d5e3c8a",
   "metadata": {},
   "source": [
    "### in"
   ]
  },
  {
   "cell_type": "code",
   "execution_count": 13,
   "id": "0c873e60",
   "metadata": {},
   "outputs": [
    {
     "name": "stdout",
     "output_type": "stream",
     "text": [
      "True\n"
     ]
    }
   ],
   "source": [
    "texto = 'Silvio Monte'\n",
    "localizar = 'i' in texto\n",
    "print(localizar)"
   ]
  },
  {
   "cell_type": "markdown",
   "id": "f7ee91f7",
   "metadata": {},
   "source": [
    "### len()\n",
    "Conta o camanho da string"
   ]
  },
  {
   "cell_type": "code",
   "execution_count": 10,
   "id": "7e9d6383",
   "metadata": {},
   "outputs": [
    {
     "name": "stdout",
     "output_type": "stream",
     "text": [
      "12\n"
     ]
    }
   ],
   "source": [
    "string = 'Silvio Monte'\n",
    "tamanho = len(string)\n",
    "print(tamanho)"
   ]
  },
  {
   "cell_type": "markdown",
   "id": "9bf9dfcd",
   "metadata": {},
   "source": [
    "### capitalize()\n",
    "Torna a primeira letra maiúscula"
   ]
  },
  {
   "cell_type": "code",
   "execution_count": 27,
   "id": "8f1b2b9c",
   "metadata": {},
   "outputs": [
    {
     "name": "stdout",
     "output_type": "stream",
     "text": [
      "Silvio monte. indra escobar\n"
     ]
    }
   ],
   "source": [
    "texto = 'SILVIO MONTE. INDRA ESCOBAR'\n",
    "print(texto.capitalize())"
   ]
  },
  {
   "cell_type": "markdown",
   "id": "c649324d",
   "metadata": {},
   "source": [
    "### lower()\n",
    "Torna todo o texto em minúsculas"
   ]
  },
  {
   "cell_type": "code",
   "execution_count": 28,
   "id": "3cddb9ca",
   "metadata": {},
   "outputs": [
    {
     "name": "stdout",
     "output_type": "stream",
     "text": [
      "silvio monte. indra escobar\n"
     ]
    }
   ],
   "source": [
    "texto = 'SILVIO MONTE. INDRA ESCOBAR'\n",
    "print(texto.lower())"
   ]
  },
  {
   "cell_type": "markdown",
   "id": "2fe5eabc",
   "metadata": {},
   "source": [
    "### upper()\n",
    "Torna todo o texto em maiúsculas"
   ]
  },
  {
   "cell_type": "code",
   "execution_count": 29,
   "id": "7990d9e8",
   "metadata": {},
   "outputs": [
    {
     "name": "stdout",
     "output_type": "stream",
     "text": [
      "SILVIO MONTE. INDRA ESCOBAR\n"
     ]
    }
   ],
   "source": [
    "texto = 'silvio monte. indra escobar'\n",
    "print(texto.upper())"
   ]
  },
  {
   "cell_type": "markdown",
   "id": "9b820f73",
   "metadata": {},
   "source": [
    "### title()\n",
    "Deixa maiúscula toda primeira letra de cada palavra"
   ]
  },
  {
   "cell_type": "code",
   "execution_count": 30,
   "id": "825262e5",
   "metadata": {},
   "outputs": [
    {
     "name": "stdout",
     "output_type": "stream",
     "text": [
      "Silvio Monte. Indra Escobar\n"
     ]
    }
   ],
   "source": [
    "texto = 'silvio monte. indra escobar'\n",
    "print(texto.title())"
   ]
  },
  {
   "cell_type": "markdown",
   "id": "e03cb697",
   "metadata": {},
   "source": [
    "### swapcase()\n",
    "Inverte as levras maiúsculas e minúsculas"
   ]
  },
  {
   "cell_type": "code",
   "execution_count": 33,
   "id": "ff42c92a",
   "metadata": {},
   "outputs": [
    {
     "name": "stdout",
     "output_type": "stream",
     "text": [
      "silvio monte. INDRA ESCOBAR\n"
     ]
    }
   ],
   "source": [
    "texto = 'SILVIO MONTE. indra escobar'\n",
    "print(texto.swapcase())"
   ]
  },
  {
   "cell_type": "markdown",
   "id": "53c22958",
   "metadata": {},
   "source": [
    "### replace()\n",
    "Substitui strings em strings"
   ]
  },
  {
   "cell_type": "code",
   "execution_count": 40,
   "id": "68829e83",
   "metadata": {},
   "outputs": [
    {
     "name": "stdout",
     "output_type": "stream",
     "text": [
      "Silvio Monte. Indra Monte\n"
     ]
    }
   ],
   "source": [
    "texto = 'Silvio Monte. Indra Escobar'\n",
    "replace = texto.replace('Escobar', 'Monte')\n",
    "print(replace)"
   ]
  },
  {
   "cell_type": "markdown",
   "id": "0bfcde8d",
   "metadata": {},
   "source": [
    "### find()\n",
    "Localiza a primeira ocorrência em uma string"
   ]
  },
  {
   "cell_type": "code",
   "execution_count": 39,
   "id": "ddac1c8e",
   "metadata": {},
   "outputs": [
    {
     "name": "stdout",
     "output_type": "stream",
     "text": [
      "1\n"
     ]
    }
   ],
   "source": [
    "texto = 'Silvio Monte. Indra Escobar'\n",
    "find = texto.find('Escobar')\n",
    "print(find)"
   ]
  },
  {
   "cell_type": "markdown",
   "id": "48c20043",
   "metadata": {},
   "source": [
    "### split()\n",
    "Separa uma string em lista"
   ]
  },
  {
   "cell_type": "code",
   "execution_count": 41,
   "id": "8cdf7325",
   "metadata": {},
   "outputs": [
    {
     "name": "stdout",
     "output_type": "stream",
     "text": [
      "['Silvio Monte', ' Indra Escobar']\n"
     ]
    }
   ],
   "source": [
    "texto = 'Silvio Monte. Indra Escobar'\n",
    "split = texto.split('.')\n",
    "print(split)"
   ]
  },
  {
   "cell_type": "markdown",
   "id": "ea0debeb",
   "metadata": {},
   "source": [
    "## Indexação"
   ]
  },
  {
   "cell_type": "code",
   "execution_count": 14,
   "id": "d311cec8",
   "metadata": {},
   "outputs": [],
   "source": [
    "texto = 'Silvio Monte'"
   ]
  },
  {
   "cell_type": "code",
   "execution_count": 15,
   "id": "0d207640",
   "metadata": {},
   "outputs": [
    {
     "name": "stdout",
     "output_type": "stream",
     "text": [
      "S\n"
     ]
    }
   ],
   "source": [
    "print(texto[0])"
   ]
  },
  {
   "cell_type": "code",
   "execution_count": 16,
   "id": "02290c2f",
   "metadata": {},
   "outputs": [
    {
     "name": "stdout",
     "output_type": "stream",
     "text": [
      "t\n"
     ]
    }
   ],
   "source": [
    "print(texto[-2])"
   ]
  },
  {
   "cell_type": "code",
   "execution_count": 20,
   "id": "198e37e8",
   "metadata": {},
   "outputs": [
    {
     "name": "stdout",
     "output_type": "stream",
     "text": [
      "lvio Mon\n"
     ]
    }
   ],
   "source": [
    "print(texto[2:10])"
   ]
  },
  {
   "cell_type": "code",
   "execution_count": 21,
   "id": "2d80f153",
   "metadata": {},
   "outputs": [
    {
     "name": "stdout",
     "output_type": "stream",
     "text": [
      "Silvio Mon\n"
     ]
    }
   ],
   "source": [
    "print(texto[:10])"
   ]
  },
  {
   "cell_type": "code",
   "execution_count": 22,
   "id": "9dbee9a6",
   "metadata": {},
   "outputs": [
    {
     "name": "stdout",
     "output_type": "stream",
     "text": [
      "te\n"
     ]
    }
   ],
   "source": [
    "print(texto[10:])"
   ]
  },
  {
   "cell_type": "code",
   "execution_count": 23,
   "id": "534ffb8e",
   "metadata": {},
   "outputs": [
    {
     "name": "stdout",
     "output_type": "stream",
     "text": [
      "lvio Monte\n"
     ]
    }
   ],
   "source": [
    "print(texto[-10:])"
   ]
  },
  {
   "cell_type": "code",
   "execution_count": 24,
   "id": "b95bfd1e",
   "metadata": {},
   "outputs": [
    {
     "name": "stdout",
     "output_type": "stream",
     "text": [
      "Si\n"
     ]
    }
   ],
   "source": [
    "print(texto[:-10])"
   ]
  }
 ],
 "metadata": {
  "kernelspec": {
   "display_name": "Python 3",
   "language": "python",
   "name": "python3"
  },
  "language_info": {
   "codemirror_mode": {
    "name": "ipython",
    "version": 3
   },
   "file_extension": ".py",
   "mimetype": "text/x-python",
   "name": "python",
   "nbconvert_exporter": "python",
   "pygments_lexer": "ipython3",
   "version": "3.8.8"
  }
 },
 "nbformat": 4,
 "nbformat_minor": 5
}

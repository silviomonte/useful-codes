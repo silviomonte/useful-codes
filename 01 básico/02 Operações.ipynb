{
 "cells": [
  {
   "cell_type": "markdown",
   "id": "a0243d9a",
   "metadata": {},
   "source": [
    "# Operações"
   ]
  },
  {
   "cell_type": "markdown",
   "id": "ca42845c",
   "metadata": {},
   "source": [
    "## Operações Matemáticas"
   ]
  },
  {
   "cell_type": "markdown",
   "id": "095d0d46",
   "metadata": {},
   "source": [
    "### Soma"
   ]
  },
  {
   "cell_type": "code",
   "execution_count": 5,
   "id": "47d6260c",
   "metadata": {},
   "outputs": [
    {
     "name": "stdout",
     "output_type": "stream",
     "text": [
      "17\n"
     ]
    }
   ],
   "source": [
    "x = 10\n",
    "y = 7\n",
    "soma = x + y\n",
    "print(soma)"
   ]
  },
  {
   "cell_type": "markdown",
   "id": "234978cd",
   "metadata": {},
   "source": [
    "### Subtração"
   ]
  },
  {
   "cell_type": "code",
   "execution_count": 6,
   "id": "cd1fc234",
   "metadata": {},
   "outputs": [
    {
     "name": "stdout",
     "output_type": "stream",
     "text": [
      "3\n"
     ]
    }
   ],
   "source": [
    "x = 10\n",
    "y = 7\n",
    "subtracao = x - y\n",
    "print(subtracao)"
   ]
  },
  {
   "cell_type": "markdown",
   "id": "dd6b3633",
   "metadata": {},
   "source": [
    "### Multiplicação"
   ]
  },
  {
   "cell_type": "code",
   "execution_count": 7,
   "id": "44d80bdb",
   "metadata": {},
   "outputs": [
    {
     "name": "stdout",
     "output_type": "stream",
     "text": [
      "70\n"
     ]
    }
   ],
   "source": [
    "x = 10\n",
    "y = 7\n",
    "multiplicacao = x * y\n",
    "print(multiplicacao)"
   ]
  },
  {
   "cell_type": "markdown",
   "id": "be1ee6a0",
   "metadata": {},
   "source": [
    "### Divisão"
   ]
  },
  {
   "cell_type": "code",
   "execution_count": 9,
   "id": "97f8089c",
   "metadata": {},
   "outputs": [
    {
     "name": "stdout",
     "output_type": "stream",
     "text": [
      "1.4285714285714286\n"
     ]
    }
   ],
   "source": [
    "x = 10\n",
    "y = 7\n",
    "divisao = x / y\n",
    "print(divisao)"
   ]
  },
  {
   "cell_type": "markdown",
   "id": "56983904",
   "metadata": {},
   "source": [
    "### Divisão Inteira"
   ]
  },
  {
   "cell_type": "code",
   "execution_count": 10,
   "id": "0e8e7582",
   "metadata": {},
   "outputs": [
    {
     "name": "stdout",
     "output_type": "stream",
     "text": [
      "1\n"
     ]
    }
   ],
   "source": [
    "x = 10\n",
    "y = 7\n",
    "divisao_inteira = x // y\n",
    "print(divisao_inteira)"
   ]
  },
  {
   "cell_type": "markdown",
   "id": "88772373",
   "metadata": {},
   "source": [
    "### Módulo"
   ]
  },
  {
   "cell_type": "code",
   "execution_count": 11,
   "id": "e3a72278",
   "metadata": {},
   "outputs": [
    {
     "name": "stdout",
     "output_type": "stream",
     "text": [
      "3\n"
     ]
    }
   ],
   "source": [
    "x = 10\n",
    "y = 7\n",
    "modulo = x % y\n",
    "print(modulo)"
   ]
  },
  {
   "cell_type": "markdown",
   "id": "9771dc55",
   "metadata": {},
   "source": [
    "### Valor Absoluto"
   ]
  },
  {
   "cell_type": "code",
   "execution_count": 17,
   "id": "ed22c331",
   "metadata": {},
   "outputs": [
    {
     "name": "stdout",
     "output_type": "stream",
     "text": [
      "10\n"
     ]
    }
   ],
   "source": [
    "z = -10\n",
    "absoluto = abs(z)\n",
    "print(absoluto)"
   ]
  },
  {
   "cell_type": "markdown",
   "id": "6c89d064",
   "metadata": {},
   "source": [
    "### Potenciação"
   ]
  },
  {
   "cell_type": "code",
   "execution_count": 13,
   "id": "3e8c5316",
   "metadata": {},
   "outputs": [
    {
     "name": "stdout",
     "output_type": "stream",
     "text": [
      "10000000\n"
     ]
    }
   ],
   "source": [
    "x = 10\n",
    "y = 7\n",
    "potenciacao = x ** y\n",
    "print(potenciacao)"
   ]
  },
  {
   "cell_type": "markdown",
   "id": "44c08a05",
   "metadata": {},
   "source": [
    "## Operações Lógicas"
   ]
  },
  {
   "cell_type": "markdown",
   "id": "21f58131",
   "metadata": {},
   "source": [
    "### And"
   ]
  },
  {
   "cell_type": "code",
   "execution_count": 20,
   "id": "ecadc300",
   "metadata": {},
   "outputs": [
    {
     "name": "stdout",
     "output_type": "stream",
     "text": [
      "False\n"
     ]
    }
   ],
   "source": [
    "variavel_1 = True\n",
    "variavel_2 = False\n",
    "op_and = variavel_1 and variavel_2\n",
    "print(op_and)"
   ]
  },
  {
   "cell_type": "markdown",
   "id": "6dd9089a",
   "metadata": {},
   "source": [
    "### OR"
   ]
  },
  {
   "cell_type": "code",
   "execution_count": 21,
   "id": "3d223a50",
   "metadata": {},
   "outputs": [
    {
     "name": "stdout",
     "output_type": "stream",
     "text": [
      "True\n"
     ]
    }
   ],
   "source": [
    "variavel_1 = True\n",
    "variavel_2 = False\n",
    "op_or = variavel_1 or variavel_2\n",
    "print(op_or)"
   ]
  },
  {
   "cell_type": "markdown",
   "id": "e7315416",
   "metadata": {},
   "source": [
    "### NOT"
   ]
  },
  {
   "cell_type": "code",
   "execution_count": 23,
   "id": "8fae1b20",
   "metadata": {},
   "outputs": [
    {
     "name": "stdout",
     "output_type": "stream",
     "text": [
      "False\n"
     ]
    }
   ],
   "source": [
    "variavel = True\n",
    "op_not = not variavel\n",
    "print(op_not)"
   ]
  },
  {
   "cell_type": "markdown",
   "id": "ed2a1206",
   "metadata": {},
   "source": [
    "## Operações de comparação"
   ]
  },
  {
   "cell_type": "markdown",
   "id": "9b10c6a0",
   "metadata": {},
   "source": [
    "### Maior que"
   ]
  },
  {
   "cell_type": "code",
   "execution_count": 24,
   "id": "d828fa3a",
   "metadata": {},
   "outputs": [
    {
     "name": "stdout",
     "output_type": "stream",
     "text": [
      "True\n"
     ]
    }
   ],
   "source": [
    "x = 10\n",
    "y = 7\n",
    "maior_que = x > y\n",
    "print(maior_que)"
   ]
  },
  {
   "cell_type": "markdown",
   "id": "bfeb137a",
   "metadata": {},
   "source": [
    "### Maior ou igual que"
   ]
  },
  {
   "cell_type": "code",
   "execution_count": 26,
   "id": "6c4108a2",
   "metadata": {},
   "outputs": [
    {
     "name": "stdout",
     "output_type": "stream",
     "text": [
      "True\n"
     ]
    }
   ],
   "source": [
    "x = 10\n",
    "y = 10\n",
    "maior_ou_igual_que = x >= y\n",
    "print(maior_ou_igual_que)"
   ]
  },
  {
   "cell_type": "markdown",
   "id": "1f666136",
   "metadata": {},
   "source": [
    "### Menor que"
   ]
  },
  {
   "cell_type": "code",
   "execution_count": 25,
   "id": "b38961e3",
   "metadata": {},
   "outputs": [
    {
     "name": "stdout",
     "output_type": "stream",
     "text": [
      "False\n"
     ]
    }
   ],
   "source": [
    "x = 10\n",
    "y = 7\n",
    "menor_que = x < y\n",
    "print(menor_que)"
   ]
  },
  {
   "cell_type": "markdown",
   "id": "e34ee30d",
   "metadata": {},
   "source": [
    "### Menor ou igual que"
   ]
  },
  {
   "cell_type": "code",
   "execution_count": 27,
   "id": "5fb00b3b",
   "metadata": {},
   "outputs": [
    {
     "name": "stdout",
     "output_type": "stream",
     "text": [
      "True\n"
     ]
    }
   ],
   "source": [
    "x = 10\n",
    "y = 10\n",
    "menor_ou_igual_que = x <= y\n",
    "print(menor_ou_igual_que)"
   ]
  },
  {
   "cell_type": "markdown",
   "id": "ce1badcc",
   "metadata": {},
   "source": [
    "### Igual"
   ]
  },
  {
   "cell_type": "code",
   "execution_count": 28,
   "id": "c46e348d",
   "metadata": {},
   "outputs": [
    {
     "name": "stdout",
     "output_type": "stream",
     "text": [
      "False\n"
     ]
    }
   ],
   "source": [
    "x = 10\n",
    "y = '10'\n",
    "igual = x == y\n",
    "print(igual)"
   ]
  }
 ],
 "metadata": {
  "kernelspec": {
   "display_name": "Python 3",
   "language": "python",
   "name": "python3"
  },
  "language_info": {
   "codemirror_mode": {
    "name": "ipython",
    "version": 3
   },
   "file_extension": ".py",
   "mimetype": "text/x-python",
   "name": "python",
   "nbconvert_exporter": "python",
   "pygments_lexer": "ipython3",
   "version": "3.8.8"
  }
 },
 "nbformat": 4,
 "nbformat_minor": 5
}

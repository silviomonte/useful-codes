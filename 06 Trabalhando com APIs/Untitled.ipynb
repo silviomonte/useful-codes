{
 "cells": [
  {
   "cell_type": "markdown",
   "id": "69bb5e79",
   "metadata": {},
   "source": [
    "# Trabalhando com APIs"
   ]
  },
  {
   "cell_type": "code",
   "execution_count": 4,
   "id": "a436e63c",
   "metadata": {},
   "outputs": [],
   "source": [
    "import requests\n",
    "import json"
   ]
  },
  {
   "cell_type": "code",
   "execution_count": 5,
   "id": "937736eb",
   "metadata": {},
   "outputs": [
    {
     "name": "stdout",
     "output_type": "stream",
     "text": [
      "{'cep': '50740450', 'state': 'PE', 'city': 'Recife', 'neighborhood': 'Várzea', 'street': 'Rua Marechal Manoel Luís Osório', 'service': 'correios', 'location': {'type': 'Point', 'coordinates': {'longitude': '-34.9446807', 'latitude': '-8.041505'}}}\n"
     ]
    }
   ],
   "source": [
    "cep = '50740450'\n",
    "request = requests.get(f\"https://brasilapi.com.br/api/cep/v2/{cep}\")\n",
    "dados = json.loads(request.content)\n",
    "print(dados)"
   ]
  }
 ],
 "metadata": {
  "kernelspec": {
   "display_name": "Python 3",
   "language": "python",
   "name": "python3"
  },
  "language_info": {
   "codemirror_mode": {
    "name": "ipython",
    "version": 3
   },
   "file_extension": ".py",
   "mimetype": "text/x-python",
   "name": "python",
   "nbconvert_exporter": "python",
   "pygments_lexer": "ipython3",
   "version": "3.8.8"
  }
 },
 "nbformat": 4,
 "nbformat_minor": 5
}

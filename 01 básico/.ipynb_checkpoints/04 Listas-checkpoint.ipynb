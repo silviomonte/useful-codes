{
 "cells": [
  {
   "cell_type": "markdown",
   "id": "f51e2b69",
   "metadata": {},
   "source": [
    "# Listas\n",
    "serve para agrupar outros tipos de variáveis, ainda que sejam distintas"
   ]
  },
  {
   "cell_type": "code",
   "execution_count": null,
   "id": "2f132a74",
   "metadata": {},
   "outputs": [],
   "source": [
    "serve para agrupar outros tipos de variáveis, ainda que sejam distintas"
   ]
  },
  {
   "cell_type": "markdown",
   "id": "13f3d5a3",
   "metadata": {},
   "source": [
    "## Operações"
   ]
  },
  {
   "cell_type": "markdown",
   "id": "4fa8d7d5",
   "metadata": {},
   "source": [
    "### Tamanho"
   ]
  },
  {
   "cell_type": "code",
   "execution_count": 1,
   "id": "6796609f",
   "metadata": {},
   "outputs": [
    {
     "name": "stdout",
     "output_type": "stream",
     "text": [
      "3\n"
     ]
    }
   ],
   "source": [
    "lista = [1, 2, 3]\n",
    "print(len(lista))"
   ]
  },
  {
   "cell_type": "markdown",
   "id": "1f6508f2",
   "metadata": {},
   "source": [
    "### Concatenação"
   ]
  },
  {
   "cell_type": "code",
   "execution_count": 3,
   "id": "87bbd700",
   "metadata": {},
   "outputs": [
    {
     "name": "stdout",
     "output_type": "stream",
     "text": [
      "[1, 2, 3, 4, 5, 6]\n"
     ]
    }
   ],
   "source": [
    "lista_1 = [1, 2, 3]\n",
    "lista_2 = [4, 5, 6]\n",
    "lista = lista_1 + lista_2\n",
    "print(lista)"
   ]
  },
  {
   "cell_type": "markdown",
   "id": "eb4f2287",
   "metadata": {},
   "source": [
    "### Repetição"
   ]
  },
  {
   "cell_type": "code",
   "execution_count": 4,
   "id": "2b505582",
   "metadata": {},
   "outputs": [
    {
     "name": "stdout",
     "output_type": "stream",
     "text": [
      "['silvio', 'silvio', 'silvio', 'silvio']\n"
     ]
    }
   ],
   "source": [
    "lista_base = ['silvio']\n",
    "lista = lista_base * 4\n",
    "print(lista)"
   ]
  },
  {
   "cell_type": "markdown",
   "id": "43a700e7",
   "metadata": {},
   "source": [
    "### Participação"
   ]
  },
  {
   "cell_type": "code",
   "execution_count": 5,
   "id": "d17c7816",
   "metadata": {},
   "outputs": [
    {
     "name": "stdout",
     "output_type": "stream",
     "text": [
      "True\n"
     ]
    }
   ],
   "source": [
    "lista = [1, 2, 3]\n",
    "verificacao = 3 in lista\n",
    "print(verificacao)"
   ]
  },
  {
   "cell_type": "markdown",
   "id": "38d81985",
   "metadata": {},
   "source": [
    "## Indexação"
   ]
  },
  {
   "cell_type": "code",
   "execution_count": 6,
   "id": "6ee779e0",
   "metadata": {},
   "outputs": [],
   "source": [
    "lista = ['Silvio Monte', 'Indra Escobar', 'Jack Johnson']"
   ]
  },
  {
   "cell_type": "code",
   "execution_count": 7,
   "id": "fafc16f8",
   "metadata": {},
   "outputs": [
    {
     "name": "stdout",
     "output_type": "stream",
     "text": [
      "Indra Escobar\n"
     ]
    }
   ],
   "source": [
    "print(lista[1])"
   ]
  },
  {
   "cell_type": "code",
   "execution_count": 8,
   "id": "362255b7",
   "metadata": {},
   "outputs": [
    {
     "name": "stdout",
     "output_type": "stream",
     "text": [
      "['Indra Escobar', 'Jack Johnson']\n"
     ]
    }
   ],
   "source": [
    "print(lista[1:])"
   ]
  },
  {
   "cell_type": "code",
   "execution_count": 9,
   "id": "94d551db",
   "metadata": {},
   "outputs": [
    {
     "name": "stdout",
     "output_type": "stream",
     "text": [
      "['Silvio Monte']\n"
     ]
    }
   ],
   "source": [
    "print(lista[:1])"
   ]
  },
  {
   "cell_type": "markdown",
   "id": "455e73e1",
   "metadata": {},
   "source": [
    "## Matriz"
   ]
  },
  {
   "cell_type": "code",
   "execution_count": 11,
   "id": "950c6982",
   "metadata": {},
   "outputs": [
    {
     "name": "stdout",
     "output_type": "stream",
     "text": [
      "[['Silvio Monte', 23, 1.74], ['Indra Escobar', 29, 1.68], ['Jack Johnson', 39, 1.93]]\n"
     ]
    }
   ],
   "source": [
    "matriz = [\n",
    "    ['Silvio Monte', 23, 1.74],\n",
    "    ['Indra Escobar', 29, 1.68],\n",
    "    ['Jack Johnson', 39, 1.93],\n",
    "]\n",
    "print(matriz)"
   ]
  },
  {
   "cell_type": "code",
   "execution_count": 12,
   "id": "6bae8646",
   "metadata": {},
   "outputs": [
    {
     "name": "stdout",
     "output_type": "stream",
     "text": [
      "['Silvio Monte', 23, 1.74]\n"
     ]
    }
   ],
   "source": [
    "print(matriz[0])"
   ]
  },
  {
   "cell_type": "code",
   "execution_count": 13,
   "id": "e082be55",
   "metadata": {},
   "outputs": [
    {
     "name": "stdout",
     "output_type": "stream",
     "text": [
      "Silvio Monte\n"
     ]
    }
   ],
   "source": [
    "print(matriz[0][0])"
   ]
  },
  {
   "cell_type": "markdown",
   "id": "b2261765",
   "metadata": {},
   "source": [
    "## Funções"
   ]
  },
  {
   "cell_type": "markdown",
   "id": "d11dd2a3",
   "metadata": {},
   "source": [
    "### append()\n",
    "Adicionar item a lista"
   ]
  },
  {
   "cell_type": "code",
   "execution_count": 14,
   "id": "3ec229a6",
   "metadata": {},
   "outputs": [
    {
     "name": "stdout",
     "output_type": "stream",
     "text": [
      "[['Silvio Monte', 23, 1.74], ['Indra Escobar', 29, 1.68], ['Jack Johnson', 39, 1.93], ['Jimmy Hendrix', 74, 1.76]]\n"
     ]
    }
   ],
   "source": [
    "lista = [\n",
    "    ['Silvio Monte', 23, 1.74],\n",
    "    ['Indra Escobar', 29, 1.68],\n",
    "    ['Jack Johnson', 39, 1.93],\n",
    "]\n",
    "novo_item = ['Jimmy Hendrix', 74, 1.76]\n",
    "nova_lista = lista.append(novo_item)\n",
    "print(lista)"
   ]
  },
  {
   "cell_type": "markdown",
   "id": "6f570fab",
   "metadata": {},
   "source": [
    "### sort()\n",
    "Ordena listas"
   ]
  },
  {
   "cell_type": "code",
   "execution_count": 16,
   "id": "0b1e6ce7",
   "metadata": {},
   "outputs": [
    {
     "name": "stdout",
     "output_type": "stream",
     "text": [
      "[['Indra Escobar', 29, 1.68], ['Jack Johnson', 39, 1.93], ['Silvio Monte', 23, 1.74]]\n"
     ]
    }
   ],
   "source": [
    "lista = [\n",
    "    ['Silvio Monte', 23, 1.74],\n",
    "    ['Indra Escobar', 29, 1.68],\n",
    "    ['Jack Johnson', 39, 1.93],\n",
    "]\n",
    "nova_lista = lista.sort()\n",
    "print(lista)"
   ]
  },
  {
   "cell_type": "markdown",
   "id": "a13166fd",
   "metadata": {},
   "source": [
    "### pop()\n",
    "Exclui o último item da lista"
   ]
  },
  {
   "cell_type": "code",
   "execution_count": 17,
   "id": "62d4388c",
   "metadata": {},
   "outputs": [
    {
     "name": "stdout",
     "output_type": "stream",
     "text": [
      "[['Silvio Monte', 23, 1.74], ['Indra Escobar', 29, 1.68]]\n"
     ]
    }
   ],
   "source": [
    "lista = [\n",
    "    ['Silvio Monte', 23, 1.74],\n",
    "    ['Indra Escobar', 29, 1.68],\n",
    "    ['Jack Johnson', 39, 1.93],\n",
    "]\n",
    "nova_lista = lista.pop()\n",
    "print(lista)"
   ]
  },
  {
   "cell_type": "markdown",
   "id": "5a59b1a1",
   "metadata": {},
   "source": [
    "### del\n",
    "Exclui o item informado"
   ]
  },
  {
   "cell_type": "code",
   "execution_count": 18,
   "id": "f82239ca",
   "metadata": {},
   "outputs": [
    {
     "name": "stdout",
     "output_type": "stream",
     "text": [
      "[['Silvio Monte', 23, 1.74], ['Jack Johnson', 39, 1.93]]\n"
     ]
    }
   ],
   "source": [
    "lista = [\n",
    "    ['Silvio Monte', 23, 1.74],\n",
    "    ['Indra Escobar', 29, 1.68],\n",
    "    ['Jack Johnson', 39, 1.93],\n",
    "]\n",
    "del lista[1]\n",
    "print(lista)"
   ]
  },
  {
   "cell_type": "markdown",
   "id": "d93e43e7",
   "metadata": {},
   "source": [
    "### min()"
   ]
  },
  {
   "cell_type": "code",
   "execution_count": 21,
   "id": "b4e94c84",
   "metadata": {},
   "outputs": [
    {
     "name": "stdout",
     "output_type": "stream",
     "text": [
      "1\n"
     ]
    }
   ],
   "source": [
    "lista = [1, 2, 3]\n",
    "print(min(lista))"
   ]
  },
  {
   "cell_type": "markdown",
   "id": "b7a1551b",
   "metadata": {},
   "source": [
    "### max()"
   ]
  },
  {
   "cell_type": "code",
   "execution_count": 22,
   "id": "1781bb24",
   "metadata": {},
   "outputs": [
    {
     "name": "stdout",
     "output_type": "stream",
     "text": [
      "3\n"
     ]
    }
   ],
   "source": [
    "lista = [1, 2, 3]\n",
    "print(max(lista))"
   ]
  }
 ],
 "metadata": {
  "kernelspec": {
   "display_name": "Python 3",
   "language": "python",
   "name": "python3"
  },
  "language_info": {
   "codemirror_mode": {
    "name": "ipython",
    "version": 3
   },
   "file_extension": ".py",
   "mimetype": "text/x-python",
   "name": "python",
   "nbconvert_exporter": "python",
   "pygments_lexer": "ipython3",
   "version": "3.8.8"
  }
 },
 "nbformat": 4,
 "nbformat_minor": 5
}

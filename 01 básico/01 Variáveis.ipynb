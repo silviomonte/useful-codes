{
 "cells": [
  {
   "cell_type": "markdown",
   "id": "6bb1f237",
   "metadata": {},
   "source": [
    "# Variáveis\n",
    "\n",
    "- Devem sempre começar com letras\n",
    "- A nomenclatura deve ser o mais simples possível\n",
    "- Para facilitar a leitura, é bom sempre usar o underline (_) para separar as palavras"
   ]
  },
  {
   "cell_type": "markdown",
   "id": "f1c3bbf6",
   "metadata": {},
   "source": [
    "## Tipos"
   ]
  },
  {
   "cell_type": "markdown",
   "id": "d7abefd9",
   "metadata": {},
   "source": [
    "### Integer\n",
    "composta por algarismos numéricos inteiros"
   ]
  },
  {
   "cell_type": "code",
   "execution_count": 25,
   "id": "3ea91685",
   "metadata": {},
   "outputs": [
    {
     "data": {
      "text/plain": [
       "10"
      ]
     },
     "execution_count": 25,
     "metadata": {},
     "output_type": "execute_result"
    }
   ],
   "source": [
    "interiro = 10\n",
    "interiro"
   ]
  },
  {
   "cell_type": "markdown",
   "id": "b1834176",
   "metadata": {},
   "source": [
    "### Float\n",
    "composta por algarismos decimais (frações)"
   ]
  },
  {
   "cell_type": "code",
   "execution_count": 26,
   "id": "47ee6a5e",
   "metadata": {},
   "outputs": [
    {
     "data": {
      "text/plain": [
       "2.5"
      ]
     },
     "execution_count": 26,
     "metadata": {},
     "output_type": "execute_result"
    }
   ],
   "source": [
    "flutuante = 2.5\n",
    "flutuante"
   ]
  },
  {
   "cell_type": "markdown",
   "id": "9b7a9c59",
   "metadata": {},
   "source": [
    "### Complexos\n",
    "composta por funções matemáticas"
   ]
  },
  {
   "cell_type": "code",
   "execution_count": 29,
   "id": "4445aaaa",
   "metadata": {},
   "outputs": [
    {
     "data": {
      "text/plain": [
       "(10+4j)"
      ]
     },
     "execution_count": 29,
     "metadata": {},
     "output_type": "execute_result"
    }
   ],
   "source": [
    "complexos = complex(10,4)\n",
    "complexos"
   ]
  },
  {
   "cell_type": "markdown",
   "id": "bf8a81a8",
   "metadata": {},
   "source": [
    "### String\n",
    "composta por caracteres que formam palavras, frases e textos"
   ]
  },
  {
   "cell_type": "code",
   "execution_count": 28,
   "id": "fda4c84e",
   "metadata": {},
   "outputs": [
    {
     "data": {
      "text/plain": [
       "'Silvio Monte'"
      ]
     },
     "execution_count": 28,
     "metadata": {},
     "output_type": "execute_result"
    }
   ],
   "source": [
    "texto = 'Silvio Monte'\n",
    "texto"
   ]
  },
  {
   "cell_type": "markdown",
   "id": "e878195a",
   "metadata": {},
   "source": [
    "### Boolean\n",
    "composta por lógicas binárias, ou seja, expressões que podem ser classificadas como verdadeiras ou falsas"
   ]
  },
  {
   "cell_type": "code",
   "execution_count": 30,
   "id": "d324086d",
   "metadata": {},
   "outputs": [
    {
     "data": {
      "text/plain": [
       "True"
      ]
     },
     "execution_count": 30,
     "metadata": {},
     "output_type": "execute_result"
    }
   ],
   "source": [
    "booleanos = True\n",
    "booleanos"
   ]
  },
  {
   "cell_type": "markdown",
   "id": "f706d4d3",
   "metadata": {},
   "source": [
    "### Listas\n",
    "serve para agrupar outros tipos de variáveis, ainda que sejam distintas"
   ]
  },
  {
   "cell_type": "code",
   "execution_count": 31,
   "id": "62c22d66",
   "metadata": {},
   "outputs": [
    {
     "data": {
      "text/plain": [
       "['Silvio', 23, 1.68]"
      ]
     },
     "execution_count": 31,
     "metadata": {},
     "output_type": "execute_result"
    }
   ],
   "source": [
    "lista = ['Silvio', 23, 1.68]\n",
    "lista"
   ]
  },
  {
   "cell_type": "markdown",
   "id": "9dcc65cd",
   "metadata": {},
   "source": [
    "### Tuplas\n",
    "uma espécie de lista, mas que não permite alterar elementos após a sua criação"
   ]
  },
  {
   "cell_type": "code",
   "execution_count": 33,
   "id": "cb7249d7",
   "metadata": {},
   "outputs": [
    {
     "data": {
      "text/plain": [
       "('Silvio', 23, 1.68)"
      ]
     },
     "execution_count": 33,
     "metadata": {},
     "output_type": "execute_result"
    }
   ],
   "source": [
    "tupla = ('Silvio', 23, 1.68)\n",
    "tupla"
   ]
  },
  {
   "cell_type": "markdown",
   "id": "9ce02e8e",
   "metadata": {},
   "source": [
    "### Dicionários\n",
    "estabelece uma relação de chave e valor entre dois elementos, onde o primeiro é a chave e o segundo é o valor."
   ]
  },
  {
   "cell_type": "code",
   "execution_count": 34,
   "id": "b11cf75b",
   "metadata": {},
   "outputs": [
    {
     "data": {
      "text/plain": [
       "{'Nome': 'Silvio Monte', 'Idade': 23, 'Altura': 1.68}"
      ]
     },
     "execution_count": 34,
     "metadata": {},
     "output_type": "execute_result"
    }
   ],
   "source": [
    "dicionario = {'Nome' : 'Silvio Monte', 'Idade' : 23, 'Altura' : 1.68}\n",
    "dicionario"
   ]
  },
  {
   "cell_type": "markdown",
   "id": "658ac017",
   "metadata": {},
   "source": [
    "## Converter tipos de variáveis"
   ]
  },
  {
   "cell_type": "markdown",
   "id": "4dd58c73",
   "metadata": {},
   "source": [
    "### Para inteiro"
   ]
  },
  {
   "cell_type": "markdown",
   "id": "9fc104d8",
   "metadata": {},
   "source": [
    "#### String to integer"
   ]
  },
  {
   "cell_type": "code",
   "execution_count": 43,
   "id": "df1636e3",
   "metadata": {},
   "outputs": [
    {
     "name": "stdout",
     "output_type": "stream",
     "text": [
      "<class 'str'>\n",
      "<class 'int'>\n",
      "10\n"
     ]
    }
   ],
   "source": [
    "texto = '10'\n",
    "print(type(texto))\n",
    "resultado = int(texto)\n",
    "print(type(resultado))\n",
    "print(resultado)"
   ]
  },
  {
   "cell_type": "markdown",
   "id": "6cfd0b4b",
   "metadata": {},
   "source": [
    "#### Float to integer"
   ]
  },
  {
   "cell_type": "code",
   "execution_count": 42,
   "id": "71332b31",
   "metadata": {},
   "outputs": [
    {
     "name": "stdout",
     "output_type": "stream",
     "text": [
      "<class 'float'>\n",
      "<class 'int'>\n",
      "1\n"
     ]
    }
   ],
   "source": [
    "x = 1.5\n",
    "print(type(x))\n",
    "resultado = int(x)\n",
    "print(type(resultado))\n",
    "print(resultado)"
   ]
  },
  {
   "cell_type": "markdown",
   "id": "6cbdc215",
   "metadata": {},
   "source": [
    "#### Boolean to integer"
   ]
  },
  {
   "cell_type": "code",
   "execution_count": 41,
   "id": "9750667d",
   "metadata": {},
   "outputs": [
    {
     "name": "stdout",
     "output_type": "stream",
     "text": [
      "<class 'bool'>\n",
      "<class 'int'>\n",
      "1\n"
     ]
    }
   ],
   "source": [
    "valor = True\n",
    "print(type(valor))\n",
    "resultado = int(valor)\n",
    "print(type(resultado))\n",
    "print(resultado)"
   ]
  },
  {
   "cell_type": "markdown",
   "id": "a1ace712",
   "metadata": {},
   "source": [
    "### Para Float"
   ]
  },
  {
   "cell_type": "markdown",
   "id": "8e1b85ce",
   "metadata": {},
   "source": [
    "### Integer to float"
   ]
  },
  {
   "cell_type": "code",
   "execution_count": 44,
   "id": "211efc25",
   "metadata": {},
   "outputs": [
    {
     "name": "stdout",
     "output_type": "stream",
     "text": [
      "<class 'int'>\n",
      "<class 'float'>\n",
      "1.0\n"
     ]
    }
   ],
   "source": [
    "x = 1\n",
    "print(type(x))\n",
    "resultado = float(x)\n",
    "print(type(resultado))\n",
    "print(resultado)"
   ]
  },
  {
   "cell_type": "markdown",
   "id": "26cece07",
   "metadata": {},
   "source": [
    "#### String to float"
   ]
  },
  {
   "cell_type": "code",
   "execution_count": 45,
   "id": "4dc77ecd",
   "metadata": {},
   "outputs": [
    {
     "name": "stdout",
     "output_type": "stream",
     "text": [
      "<class 'str'>\n",
      "<class 'float'>\n",
      "1.5\n"
     ]
    }
   ],
   "source": [
    "x = '1.5'\n",
    "print(type(x))\n",
    "resultado = float(x)\n",
    "print(type(resultado))\n",
    "print(resultado)"
   ]
  },
  {
   "cell_type": "markdown",
   "id": "15dd3695",
   "metadata": {},
   "source": [
    "#### Boolean to float"
   ]
  },
  {
   "cell_type": "code",
   "execution_count": 47,
   "id": "16589738",
   "metadata": {},
   "outputs": [
    {
     "name": "stdout",
     "output_type": "stream",
     "text": [
      "<class 'bool'>\n",
      "<class 'float'>\n",
      "1.0\n"
     ]
    }
   ],
   "source": [
    "x = True\n",
    "print(type(x))\n",
    "resultado = float(x)\n",
    "print(type(resultado))\n",
    "print(resultado)"
   ]
  },
  {
   "cell_type": "markdown",
   "id": "c5fffaef",
   "metadata": {},
   "source": [
    "### Para String"
   ]
  },
  {
   "cell_type": "markdown",
   "id": "3d7d2157",
   "metadata": {},
   "source": [
    "#### Interger to String"
   ]
  },
  {
   "cell_type": "code",
   "execution_count": 48,
   "id": "f7dfeff3",
   "metadata": {},
   "outputs": [
    {
     "name": "stdout",
     "output_type": "stream",
     "text": [
      "<class 'int'>\n",
      "<class 'str'>\n",
      "10\n"
     ]
    }
   ],
   "source": [
    "valor = 10\n",
    "print(type(valor))\n",
    "resultado = str(valor)\n",
    "print(type(resultado))\n",
    "print(resultado)"
   ]
  },
  {
   "cell_type": "markdown",
   "id": "28e85cc2",
   "metadata": {},
   "source": [
    "### Boolean to String"
   ]
  },
  {
   "cell_type": "code",
   "execution_count": 50,
   "id": "cc578eb3",
   "metadata": {},
   "outputs": [
    {
     "name": "stdout",
     "output_type": "stream",
     "text": [
      "<class 'bool'>\n",
      "<class 'str'>\n",
      "True\n"
     ]
    }
   ],
   "source": [
    "booleano = True\n",
    "print(type(booleano))\n",
    "resultado = str(booleano)\n",
    "print(type(resultado))\n",
    "print(resultado)"
   ]
  },
  {
   "cell_type": "markdown",
   "id": "c7eb598f",
   "metadata": {},
   "source": [
    "### Para Boolean"
   ]
  },
  {
   "cell_type": "markdown",
   "id": "09bd6739",
   "metadata": {},
   "source": [
    "#### Integer to boolean"
   ]
  },
  {
   "cell_type": "code",
   "execution_count": 53,
   "id": "427a001f",
   "metadata": {},
   "outputs": [
    {
     "name": "stdout",
     "output_type": "stream",
     "text": [
      "<class 'int'>\n",
      "<class 'bool'>\n",
      "True\n"
     ]
    }
   ],
   "source": [
    "inteiro = 1\n",
    "print(type(inteiro))\n",
    "resultado = bool(inteiro)\n",
    "print(type(resultado))\n",
    "print(resultado)"
   ]
  },
  {
   "cell_type": "markdown",
   "id": "2bd5b988",
   "metadata": {},
   "source": [
    "#### Float to integer"
   ]
  },
  {
   "cell_type": "code",
   "execution_count": 54,
   "id": "834d2bda",
   "metadata": {},
   "outputs": [
    {
     "name": "stdout",
     "output_type": "stream",
     "text": [
      "<class 'float'>\n",
      "<class 'bool'>\n",
      "True\n"
     ]
    }
   ],
   "source": [
    "float = 1.5\n",
    "print(type(float))\n",
    "resultado = bool(float)\n",
    "print(type(resultado))\n",
    "print(resultado)"
   ]
  }
 ],
 "metadata": {
  "kernelspec": {
   "display_name": "Python 3",
   "language": "python",
   "name": "python3"
  },
  "language_info": {
   "codemirror_mode": {
    "name": "ipython",
    "version": 3
   },
   "file_extension": ".py",
   "mimetype": "text/x-python",
   "name": "python",
   "nbconvert_exporter": "python",
   "pygments_lexer": "ipython3",
   "version": "3.8.8"
  }
 },
 "nbformat": 4,
 "nbformat_minor": 5
}

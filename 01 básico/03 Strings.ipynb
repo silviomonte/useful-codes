{
 "cells": [
  {
   "cell_type": "markdown",
   "id": "887a3174",
   "metadata": {},
   "source": [
    "# Strings"
   ]
  },
  {
   "cell_type": "markdown",
   "id": "1db1dd42",
   "metadata": {},
   "source": [
    "## Concatenação"
   ]
  },
  {
   "cell_type": "code",
   "execution_count": 2,
   "id": "d494d2e7",
   "metadata": {},
   "outputs": [
    {
     "name": "stdout",
     "output_type": "stream",
     "text": [
      "Silvio Monte\n"
     ]
    }
   ],
   "source": [
    "string_1 = 'Silvio '\n",
    "string_2 = 'Monte'\n",
    "nova_string = string_1 + string_2\n",
    "print(nova_string)"
   ]
  },
  {
   "cell_type": "markdown",
   "id": "89e3cb54",
   "metadata": {},
   "source": [
    "## Comparações"
   ]
  },
  {
   "cell_type": "code",
   "execution_count": 4,
   "id": "d9277f92",
   "metadata": {},
   "outputs": [],
   "source": [
    "string_1 = 'Silvio'\n",
    "string_2 = 'Monte'"
   ]
  },
  {
   "cell_type": "code",
   "execution_count": 5,
   "id": "dc05fcaa",
   "metadata": {},
   "outputs": [
    {
     "name": "stdout",
     "output_type": "stream",
     "text": [
      "True\n"
     ]
    }
   ],
   "source": [
    "comparacao_string = string_1 > string_2\n",
    "print(comparacao_string)"
   ]
  },
  {
   "cell_type": "code",
   "execution_count": 6,
   "id": "12295aab",
   "metadata": {},
   "outputs": [
    {
     "name": "stdout",
     "output_type": "stream",
     "text": [
      "False\n"
     ]
    }
   ],
   "source": [
    "comparacao_string = string_1 < string_2\n",
    "print(comparacao_string)"
   ]
  },
  {
   "cell_type": "code",
   "execution_count": 7,
   "id": "095b6402",
   "metadata": {},
   "outputs": [
    {
     "name": "stdout",
     "output_type": "stream",
     "text": [
      "True\n"
     ]
    }
   ],
   "source": [
    "comparacao_string = string_1 >= string_2\n",
    "print(comparacao_string)"
   ]
  },
  {
   "cell_type": "code",
   "execution_count": 8,
   "id": "08ff9904",
   "metadata": {},
   "outputs": [
    {
     "name": "stdout",
     "output_type": "stream",
     "text": [
      "False\n"
     ]
    }
   ],
   "source": [
    "comparacao_string = string_1 <= string_2\n",
    "print(comparacao_string)"
   ]
  },
  {
   "cell_type": "code",
   "execution_count": 9,
   "id": "1fae5d6d",
   "metadata": {},
   "outputs": [
    {
     "name": "stdout",
     "output_type": "stream",
     "text": [
      "False\n"
     ]
    }
   ],
   "source": [
    "comparacao_string = string_1 == string_2\n",
    "print(comparacao_string)"
   ]
  },
  {
   "cell_type": "markdown",
   "id": "79c7ac5c",
   "metadata": {},
   "source": [
    "## Funções"
   ]
  },
  {
   "cell_type": "markdown",
   "id": "508d284c",
   "metadata": {},
   "source": [
    "### Tamanho"
   ]
  },
  {
   "cell_type": "code",
   "execution_count": 10,
   "id": "395a92f9",
   "metadata": {},
   "outputs": [
    {
     "name": "stdout",
     "output_type": "stream",
     "text": [
      "12\n"
     ]
    }
   ],
   "source": [
    "string = 'Silvio Monte'\n",
    "tamanho = len(string)\n",
    "print(tamanho)"
   ]
  },
  {
   "cell_type": "code",
   "execution_count": null,
   "id": "cac5f5f7",
   "metadata": {},
   "outputs": [],
   "source": []
  },
  {
   "cell_type": "code",
   "execution_count": null,
   "id": "3e96301a",
   "metadata": {},
   "outputs": [],
   "source": []
  },
  {
   "cell_type": "code",
   "execution_count": null,
   "id": "72ea076a",
   "metadata": {},
   "outputs": [],
   "source": []
  },
  {
   "cell_type": "code",
   "execution_count": null,
   "id": "a48d7e2e",
   "metadata": {},
   "outputs": [],
   "source": []
  },
  {
   "cell_type": "code",
   "execution_count": null,
   "id": "82a6cc83",
   "metadata": {},
   "outputs": [],
   "source": []
  }
 ],
 "metadata": {
  "kernelspec": {
   "display_name": "Python 3",
   "language": "python",
   "name": "python3"
  },
  "language_info": {
   "codemirror_mode": {
    "name": "ipython",
    "version": 3
   },
   "file_extension": ".py",
   "mimetype": "text/x-python",
   "name": "python",
   "nbconvert_exporter": "python",
   "pygments_lexer": "ipython3",
   "version": "3.8.8"
  }
 },
 "nbformat": 4,
 "nbformat_minor": 5
}

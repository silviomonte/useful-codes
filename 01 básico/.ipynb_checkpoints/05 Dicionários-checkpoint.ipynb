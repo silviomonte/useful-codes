{
 "cells": [
  {
   "cell_type": "markdown",
   "id": "8d201015",
   "metadata": {},
   "source": [
    "# Dicionários"
   ]
  },
  {
   "cell_type": "markdown",
   "id": "33325aaa",
   "metadata": {},
   "source": [
    "## Criar dicionário"
   ]
  },
  {
   "cell_type": "code",
   "execution_count": 2,
   "id": "d1cb3339",
   "metadata": {},
   "outputs": [
    {
     "name": "stdout",
     "output_type": "stream",
     "text": [
      "{'Nome': 'Silvio Monte', 'Idade': 23, 'Altura': 1.68}\n"
     ]
    }
   ],
   "source": [
    "dicionario = {'Nome' : 'Silvio Monte', 'Idade' : 23, 'Altura' : 1.68}\n",
    "print(dicionario)"
   ]
  },
  {
   "cell_type": "markdown",
   "id": "1f002989",
   "metadata": {},
   "source": [
    "### Dicionário vazio"
   ]
  },
  {
   "cell_type": "code",
   "execution_count": 3,
   "id": "3f3f9838",
   "metadata": {},
   "outputs": [
    {
     "name": "stdout",
     "output_type": "stream",
     "text": [
      "{}\n"
     ]
    }
   ],
   "source": [
    "dicionario = {}\n",
    "print(dicionario)"
   ]
  },
  {
   "cell_type": "markdown",
   "id": "bd58f8eb",
   "metadata": {},
   "source": [
    "## Funções"
   ]
  },
  {
   "cell_type": "markdown",
   "id": "04ba8b09",
   "metadata": {},
   "source": [
    "### keys()\n",
    "Cria um dicionário de chaves"
   ]
  },
  {
   "cell_type": "code",
   "execution_count": 5,
   "id": "67986517",
   "metadata": {},
   "outputs": [
    {
     "name": "stdout",
     "output_type": "stream",
     "text": [
      "dict_keys(['Nome', 'Idade', 'Altura'])\n"
     ]
    }
   ],
   "source": [
    "dicionario = {'Nome' : 'Silvio Monte', 'Idade' : 23, 'Altura' : 1.68}\n",
    "print(dicionario.keys())"
   ]
  },
  {
   "cell_type": "markdown",
   "id": "5b7bbb32",
   "metadata": {},
   "source": [
    "### values()\n",
    "Cria um dicionário de valores"
   ]
  },
  {
   "cell_type": "code",
   "execution_count": 7,
   "id": "05bc402c",
   "metadata": {},
   "outputs": [
    {
     "name": "stdout",
     "output_type": "stream",
     "text": [
      "dict_values(['Silvio Monte', 23, 1.68])\n"
     ]
    }
   ],
   "source": [
    "dicionario = {'Nome' : 'Silvio Monte', 'Idade' : 23, 'Altura' : 1.68}\n",
    "print(dicionario.values())"
   ]
  },
  {
   "cell_type": "markdown",
   "id": "dded2bfb",
   "metadata": {},
   "source": [
    "### copy()\n",
    "Cria uma cópia do diconário"
   ]
  },
  {
   "cell_type": "code",
   "execution_count": 9,
   "id": "fb54ceff",
   "metadata": {},
   "outputs": [
    {
     "name": "stdout",
     "output_type": "stream",
     "text": [
      "{'Nome': 'Silvio Monte', 'Idade': 23, 'Altura': 1.68}\n"
     ]
    }
   ],
   "source": [
    "dicionario = {'Nome' : 'Silvio Monte', 'Idade' : 23, 'Altura' : 1.68}\n",
    "copia = dicionario.copy()\n",
    "print(copia)"
   ]
  },
  {
   "cell_type": "markdown",
   "id": "9a894804",
   "metadata": {},
   "source": [
    "### get()\n",
    "Pega valor de um dicionário"
   ]
  },
  {
   "cell_type": "code",
   "execution_count": 11,
   "id": "4cfaacd2",
   "metadata": {},
   "outputs": [
    {
     "name": "stdout",
     "output_type": "stream",
     "text": [
      "Silvio Monte\n"
     ]
    }
   ],
   "source": [
    "dicionario = {'Nome' : 'Silvio Monte', 'Idade' : 23, 'Altura' : 1.68}\n",
    "dado = dicionario.get('Nome')\n",
    "print(dado)"
   ]
  },
  {
   "cell_type": "markdown",
   "id": "cf0669a9",
   "metadata": {},
   "source": [
    "#### Alternativa ao get()"
   ]
  },
  {
   "cell_type": "code",
   "execution_count": 12,
   "id": "1d434822",
   "metadata": {},
   "outputs": [
    {
     "name": "stdout",
     "output_type": "stream",
     "text": [
      "Silvio Monte\n"
     ]
    }
   ],
   "source": [
    "dicionario = {'Nome' : 'Silvio Monte', 'Idade' : 23, 'Altura' : 1.68}\n",
    "print(dicionario['Nome'])"
   ]
  },
  {
   "cell_type": "markdown",
   "id": "e48e2667",
   "metadata": {},
   "source": [
    "## Alterando um dicionário"
   ]
  },
  {
   "cell_type": "code",
   "execution_count": 13,
   "id": "40e66d21",
   "metadata": {},
   "outputs": [
    {
     "name": "stdout",
     "output_type": "stream",
     "text": [
      "{'Nome': 'Silvio Monte', 'Idade': 23, 'Altura': 1.68}\n",
      "{'Nome': 'Indra Escobar', 'Idade': 23, 'Altura': 1.68}\n"
     ]
    }
   ],
   "source": [
    "dicionario = {'Nome' : 'Silvio Monte', 'Idade' : 23, 'Altura' : 1.68}\n",
    "print(dicionario)\n",
    "dicionario['Nome'] = 'Indra Escobar'\n",
    "print(dicionario)"
   ]
  },
  {
   "cell_type": "markdown",
   "id": "bf08d073",
   "metadata": {},
   "source": [
    "## Adicionando item a um dicionário"
   ]
  },
  {
   "cell_type": "code",
   "execution_count": 14,
   "id": "3369ff9c",
   "metadata": {},
   "outputs": [
    {
     "name": "stdout",
     "output_type": "stream",
     "text": [
      "{'Nome': 'Silvio Monte', 'Idade': 23, 'Altura': 1.68}\n",
      "{'Nome': 'Silvio Monte', 'Idade': 23, 'Altura': 1.68, 'Comida': 'Maça'}\n"
     ]
    }
   ],
   "source": [
    "dicionario = {'Nome' : 'Silvio Monte', 'Idade' : 23, 'Altura' : 1.68}\n",
    "print(dicionario)\n",
    "dicionario['Comida'] = 'Maça'\n",
    "print(dicionario)"
   ]
  },
  {
   "cell_type": "markdown",
   "id": "71e6f7b9",
   "metadata": {},
   "source": [
    "## Excluindo item de um dicionário"
   ]
  },
  {
   "cell_type": "code",
   "execution_count": 15,
   "id": "311eeb8a",
   "metadata": {},
   "outputs": [
    {
     "name": "stdout",
     "output_type": "stream",
     "text": [
      "{'Nome': 'Silvio Monte', 'Idade': 23, 'Altura': 1.68}\n",
      "{'Nome': 'Silvio Monte', 'Idade': 23}\n"
     ]
    }
   ],
   "source": [
    "dicionario = {'Nome' : 'Silvio Monte', 'Idade' : 23, 'Altura' : 1.68}\n",
    "print(dicionario)\n",
    "del dicionario['Altura']\n",
    "print(dicionario)"
   ]
  }
 ],
 "metadata": {
  "kernelspec": {
   "display_name": "Python 3",
   "language": "python",
   "name": "python3"
  },
  "language_info": {
   "codemirror_mode": {
    "name": "ipython",
    "version": 3
   },
   "file_extension": ".py",
   "mimetype": "text/x-python",
   "name": "python",
   "nbconvert_exporter": "python",
   "pygments_lexer": "ipython3",
   "version": "3.8.8"
  }
 },
 "nbformat": 4,
 "nbformat_minor": 5
}

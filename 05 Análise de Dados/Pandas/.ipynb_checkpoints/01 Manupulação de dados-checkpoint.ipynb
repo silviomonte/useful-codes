{
 "cells": [
  {
   "cell_type": "markdown",
   "id": "b598633c",
   "metadata": {},
   "source": [
    "# Pandas"
   ]
  },
  {
   "cell_type": "markdown",
   "id": "cde02814",
   "metadata": {},
   "source": [
    "## Índice\n",
    "\n",
    "1 [Carragar bases](#1.-Carregar-bases)<br>\n",
    "&nbsp;&nbsp;&nbsp;&nbsp; 1.1 [Carregar CSV](#1.1-Carregar-CSV)<br>\n",
    "&nbsp;&nbsp;&nbsp;&nbsp; &nbsp;&nbsp;&nbsp;&nbsp; 1.1.1 [Carregar CSV separado por ponto e vírgula](#1.1.1-Carregar-CSV-separado-por-ponto-e-vírgula)<br>\n",
    "&nbsp;&nbsp;&nbsp;&nbsp; 1.2 [Carregar Excel](#1.2-Carregar-Excel)<br>\n",
    "&nbsp;&nbsp;&nbsp;&nbsp; 1.3 [Carregar Tabela HTML](#1.3-Carregar-tabela-HTML-da-web)<br>\n",
    "\n",
    "2 [Criando Dataframes e Series](#2-Criando-Dataframes-e-Series)<br>\n",
    "&nbsp;&nbsp;&nbsp;&nbsp; 2.1 [Criando Series](#2.1-Criando-Series)<br>\n",
    "&nbsp;&nbsp;&nbsp;&nbsp; 2.2 [Criando Dataframes](#2.2-Criando-Dataframes)<br>\n",
    "\n",
    "3 [Resolvendo problemas com acentos](#3-Resolvendo-problemas-com-acentos)<br>\n",
    "\n",
    "4 [Alterando nome das colunas](#4-Alterando-nome-das-colunas)<br>\n",
    "\n",
    "<br><br>3 (Em construção)<br><br>\n",
    "4 (Em construção)<br><br>\n",
    "5 (Em construção)<br><br>\n",
    "6 (Em construção)<br><br>\n",
    "7 (Em construção)<br><br>\n",
    "\n",
    "Algumas funções (Em construção):\n",
    "- unique e nunique \n",
    "- describe\n",
    "- sort_values\n",
    "- value_counts\n",
    "- isnull \n",
    "- fillna \n",
    "- groupby \n",
    "- map\n",
    "- apply e lambda\n",
    "- pivot"
   ]
  },
  {
   "cell_type": "markdown",
   "id": "a0912926",
   "metadata": {},
   "source": [
    "#### Importando o Pandas"
   ]
  },
  {
   "cell_type": "code",
   "execution_count": 2,
   "id": "aad20fe2",
   "metadata": {},
   "outputs": [],
   "source": [
    "import pandas as pd"
   ]
  },
  {
   "cell_type": "markdown",
   "id": "7fcfd6f8",
   "metadata": {},
   "source": [
    "## 1. Carregar bases\n",
    "[Voltar para o índice](#Índice)"
   ]
  },
  {
   "cell_type": "markdown",
   "id": "fcc0072f",
   "metadata": {},
   "source": [
    "### 1.1 Carregar CSV\n",
    "[Voltar para o índice](#Índice)"
   ]
  },
  {
   "cell_type": "code",
   "execution_count": 3,
   "id": "2f235f70",
   "metadata": {},
   "outputs": [
    {
     "data": {
      "text/html": [
       "<div>\n",
       "<style scoped>\n",
       "    .dataframe tbody tr th:only-of-type {\n",
       "        vertical-align: middle;\n",
       "    }\n",
       "\n",
       "    .dataframe tbody tr th {\n",
       "        vertical-align: top;\n",
       "    }\n",
       "\n",
       "    .dataframe thead th {\n",
       "        text-align: right;\n",
       "    }\n",
       "</style>\n",
       "<table border=\"1\" class=\"dataframe\">\n",
       "  <thead>\n",
       "    <tr style=\"text-align: right;\">\n",
       "      <th></th>\n",
       "      <th>Nome</th>\n",
       "      <th>Email</th>\n",
       "      <th>Telefone</th>\n",
       "      <th>Cidade</th>\n",
       "      <th>Estado</th>\n",
       "    </tr>\n",
       "  </thead>\n",
       "  <tbody>\n",
       "    <tr>\n",
       "      <th>0</th>\n",
       "      <td>Silvio Monte</td>\n",
       "      <td>silvio@silviomonte.com.br</td>\n",
       "      <td>(81) 99215.2084</td>\n",
       "      <td>Recife</td>\n",
       "      <td>PE</td>\n",
       "    </tr>\n",
       "    <tr>\n",
       "      <th>1</th>\n",
       "      <td>Indra Escobar</td>\n",
       "      <td>indra@escobar.com</td>\n",
       "      <td>(81) 98655.2356</td>\n",
       "      <td>Arcoverde</td>\n",
       "      <td>PE</td>\n",
       "    </tr>\n",
       "    <tr>\n",
       "      <th>2</th>\n",
       "      <td>Jack Johnson</td>\n",
       "      <td>jack@jackjohnson.com</td>\n",
       "      <td>(83) 32566.6536</td>\n",
       "      <td>Jo�o Pessoa</td>\n",
       "      <td>PB</td>\n",
       "    </tr>\n",
       "    <tr>\n",
       "      <th>3</th>\n",
       "      <td>Jimmy Hendrix</td>\n",
       "      <td>jummy@nonemail.com</td>\n",
       "      <td>(11) 36523.1576</td>\n",
       "      <td>S�o Paulo</td>\n",
       "      <td>SP</td>\n",
       "    </tr>\n",
       "  </tbody>\n",
       "</table>\n",
       "</div>"
      ],
      "text/plain": [
       "            Nome                      Email         Telefone       Cidade  \\\n",
       "0   Silvio Monte  silvio@silviomonte.com.br  (81) 99215.2084       Recife   \n",
       "1  Indra Escobar          indra@escobar.com  (81) 98655.2356    Arcoverde   \n",
       "2   Jack Johnson       jack@jackjohnson.com  (83) 32566.6536  Jo�o Pessoa   \n",
       "3  Jimmy Hendrix         jummy@nonemail.com  (11) 36523.1576    S�o Paulo   \n",
       "\n",
       "  Estado  \n",
       "0     PE  \n",
       "1     PE  \n",
       "2     PB  \n",
       "3     SP  "
      ]
     },
     "execution_count": 3,
     "metadata": {},
     "output_type": "execute_result"
    }
   ],
   "source": [
    "base = pd.read_csv('../../arquivos_e_bases/arquivo_csv.csv')\n",
    "base"
   ]
  },
  {
   "cell_type": "markdown",
   "id": "6254efa7",
   "metadata": {},
   "source": [
    "#### 1.1.1 Carregar CSV separado por ponto e vírgula\n",
    "[Voltar para o índice](#Índice)"
   ]
  },
  {
   "cell_type": "code",
   "execution_count": 6,
   "id": "8cbd6a65",
   "metadata": {},
   "outputs": [
    {
     "data": {
      "text/html": [
       "<div>\n",
       "<style scoped>\n",
       "    .dataframe tbody tr th:only-of-type {\n",
       "        vertical-align: middle;\n",
       "    }\n",
       "\n",
       "    .dataframe tbody tr th {\n",
       "        vertical-align: top;\n",
       "    }\n",
       "\n",
       "    .dataframe thead th {\n",
       "        text-align: right;\n",
       "    }\n",
       "</style>\n",
       "<table border=\"1\" class=\"dataframe\">\n",
       "  <thead>\n",
       "    <tr style=\"text-align: right;\">\n",
       "      <th></th>\n",
       "      <th>Nome</th>\n",
       "      <th>Email</th>\n",
       "      <th>Telefone</th>\n",
       "      <th>Cidade</th>\n",
       "      <th>Estado</th>\n",
       "    </tr>\n",
       "  </thead>\n",
       "  <tbody>\n",
       "    <tr>\n",
       "      <th>0</th>\n",
       "      <td>Silvio Monte</td>\n",
       "      <td>silvio@silviomonte.com.br</td>\n",
       "      <td>(81) 99215.2084</td>\n",
       "      <td>Recife</td>\n",
       "      <td>PE</td>\n",
       "    </tr>\n",
       "    <tr>\n",
       "      <th>1</th>\n",
       "      <td>Indra Escobar</td>\n",
       "      <td>indra@escobar.com</td>\n",
       "      <td>(81) 98655.2356</td>\n",
       "      <td>Arcoverde</td>\n",
       "      <td>PE</td>\n",
       "    </tr>\n",
       "    <tr>\n",
       "      <th>2</th>\n",
       "      <td>Jack Johnson</td>\n",
       "      <td>jack@jackjohnson.com</td>\n",
       "      <td>(83) 32566.6536</td>\n",
       "      <td>Jo�o Pessoa</td>\n",
       "      <td>PB</td>\n",
       "    </tr>\n",
       "    <tr>\n",
       "      <th>3</th>\n",
       "      <td>Jimmy Hendrix</td>\n",
       "      <td>jummy@nonemail.com</td>\n",
       "      <td>(11) 36523.1576</td>\n",
       "      <td>S�o Paulo</td>\n",
       "      <td>SP</td>\n",
       "    </tr>\n",
       "  </tbody>\n",
       "</table>\n",
       "</div>"
      ],
      "text/plain": [
       "            Nome                      Email         Telefone       Cidade  \\\n",
       "0   Silvio Monte  silvio@silviomonte.com.br  (81) 99215.2084       Recife   \n",
       "1  Indra Escobar          indra@escobar.com  (81) 98655.2356    Arcoverde   \n",
       "2   Jack Johnson       jack@jackjohnson.com  (83) 32566.6536  Jo�o Pessoa   \n",
       "3  Jimmy Hendrix         jummy@nonemail.com  (11) 36523.1576    S�o Paulo   \n",
       "\n",
       "  Estado  \n",
       "0     PE  \n",
       "1     PE  \n",
       "2     PB  \n",
       "3     SP  "
      ]
     },
     "execution_count": 6,
     "metadata": {},
     "output_type": "execute_result"
    }
   ],
   "source": [
    "base = pd.read_csv('../../arquivos_e_bases/arquivo_csv_separado_por_ponto_e_virgula.csv', sep=';')\n",
    "base"
   ]
  },
  {
   "cell_type": "markdown",
   "id": "e0b15e38",
   "metadata": {},
   "source": [
    "### 1.2 Carregar Excel\n",
    "[Voltar para o índice](#Índice)"
   ]
  },
  {
   "cell_type": "code",
   "execution_count": 4,
   "id": "7ceb1d52",
   "metadata": {},
   "outputs": [
    {
     "data": {
      "text/html": [
       "<div>\n",
       "<style scoped>\n",
       "    .dataframe tbody tr th:only-of-type {\n",
       "        vertical-align: middle;\n",
       "    }\n",
       "\n",
       "    .dataframe tbody tr th {\n",
       "        vertical-align: top;\n",
       "    }\n",
       "\n",
       "    .dataframe thead th {\n",
       "        text-align: right;\n",
       "    }\n",
       "</style>\n",
       "<table border=\"1\" class=\"dataframe\">\n",
       "  <thead>\n",
       "    <tr style=\"text-align: right;\">\n",
       "      <th></th>\n",
       "      <th>Nome</th>\n",
       "      <th>Email</th>\n",
       "      <th>Telefone</th>\n",
       "      <th>Cidade</th>\n",
       "      <th>Estado</th>\n",
       "    </tr>\n",
       "  </thead>\n",
       "  <tbody>\n",
       "    <tr>\n",
       "      <th>0</th>\n",
       "      <td>Silvio Monte</td>\n",
       "      <td>silvio@silviomonte.com.br</td>\n",
       "      <td>(81) 99215.2084</td>\n",
       "      <td>Recife</td>\n",
       "      <td>PE</td>\n",
       "    </tr>\n",
       "    <tr>\n",
       "      <th>1</th>\n",
       "      <td>Indra Escobar</td>\n",
       "      <td>indra@escobar.com</td>\n",
       "      <td>(81) 98655.2356</td>\n",
       "      <td>Arcoverde</td>\n",
       "      <td>PE</td>\n",
       "    </tr>\n",
       "    <tr>\n",
       "      <th>2</th>\n",
       "      <td>Jack Johnson</td>\n",
       "      <td>jack@jackjohnson.com</td>\n",
       "      <td>(83) 32566.6536</td>\n",
       "      <td>João Pessoa</td>\n",
       "      <td>PB</td>\n",
       "    </tr>\n",
       "    <tr>\n",
       "      <th>3</th>\n",
       "      <td>Jimmy Hendrix</td>\n",
       "      <td>jummy@nonemail.com</td>\n",
       "      <td>(11) 36523.1576</td>\n",
       "      <td>São Paulo</td>\n",
       "      <td>SP</td>\n",
       "    </tr>\n",
       "  </tbody>\n",
       "</table>\n",
       "</div>"
      ],
      "text/plain": [
       "            Nome                      Email         Telefone       Cidade  \\\n",
       "0   Silvio Monte  silvio@silviomonte.com.br  (81) 99215.2084       Recife   \n",
       "1  Indra Escobar          indra@escobar.com  (81) 98655.2356    Arcoverde   \n",
       "2   Jack Johnson       jack@jackjohnson.com  (83) 32566.6536  João Pessoa   \n",
       "3  Jimmy Hendrix         jummy@nonemail.com  (11) 36523.1576    São Paulo   \n",
       "\n",
       "  Estado  \n",
       "0     PE  \n",
       "1     PE  \n",
       "2     PB  \n",
       "3     SP  "
      ]
     },
     "execution_count": 4,
     "metadata": {},
     "output_type": "execute_result"
    }
   ],
   "source": [
    "base = pd.read_excel('../../arquivos_e_bases/arquivo_excel.xlsx')\n",
    "base"
   ]
  },
  {
   "cell_type": "markdown",
   "id": "fb35fe30",
   "metadata": {},
   "source": [
    "### 1.3 Carregar tabela HTML da web\n",
    "[Voltar para o índice](#Índice)"
   ]
  },
  {
   "cell_type": "code",
   "execution_count": 7,
   "id": "ebd18c27",
   "metadata": {},
   "outputs": [
    {
     "data": {
      "text/plain": [
       "2"
      ]
     },
     "execution_count": 7,
     "metadata": {},
     "output_type": "execute_result"
    }
   ],
   "source": [
    "url = 'https://pt.wikipedia.org/wiki/Discagem_direta_%C3%A0_dist%C3%A2ncia'\n",
    "tabelas = pd.read_html(url)\n",
    "len(tabelas)"
   ]
  },
  {
   "cell_type": "code",
   "execution_count": 9,
   "id": "4796e461",
   "metadata": {},
   "outputs": [
    {
     "data": {
      "text/html": [
       "<div>\n",
       "<style scoped>\n",
       "    .dataframe tbody tr th:only-of-type {\n",
       "        vertical-align: middle;\n",
       "    }\n",
       "\n",
       "    .dataframe tbody tr th {\n",
       "        vertical-align: top;\n",
       "    }\n",
       "\n",
       "    .dataframe thead th {\n",
       "        text-align: right;\n",
       "    }\n",
       "</style>\n",
       "<table border=\"1\" class=\"dataframe\">\n",
       "  <thead>\n",
       "    <tr style=\"text-align: right;\">\n",
       "      <th></th>\n",
       "      <th>Prefixo</th>\n",
       "      <th>Estado</th>\n",
       "      <th>Cidades principais / Regiões</th>\n",
       "    </tr>\n",
       "  </thead>\n",
       "  <tbody>\n",
       "    <tr>\n",
       "      <th>0</th>\n",
       "      <td>11</td>\n",
       "      <td>São Paulo</td>\n",
       "      <td>Região Metropolitana de São Paulo/Região Metro...</td>\n",
       "    </tr>\n",
       "    <tr>\n",
       "      <th>1</th>\n",
       "      <td>12</td>\n",
       "      <td>São Paulo</td>\n",
       "      <td>Região Metropolitana do Vale do Paraíba e Lito...</td>\n",
       "    </tr>\n",
       "    <tr>\n",
       "      <th>2</th>\n",
       "      <td>13</td>\n",
       "      <td>São Paulo</td>\n",
       "      <td>Região Metropolitana da Baixada Santista/Vale ...</td>\n",
       "    </tr>\n",
       "    <tr>\n",
       "      <th>3</th>\n",
       "      <td>14</td>\n",
       "      <td>São Paulo</td>\n",
       "      <td>Avaré/Bauru/Botucatu/Jaú/Lins/Marília/Ourinhos</td>\n",
       "    </tr>\n",
       "    <tr>\n",
       "      <th>4</th>\n",
       "      <td>15</td>\n",
       "      <td>São Paulo</td>\n",
       "      <td>Itapetininga/Itapeva/Sorocaba/Tatuí</td>\n",
       "    </tr>\n",
       "    <tr>\n",
       "      <th>...</th>\n",
       "      <td>...</td>\n",
       "      <td>...</td>\n",
       "      <td>...</td>\n",
       "    </tr>\n",
       "    <tr>\n",
       "      <th>62</th>\n",
       "      <td>95</td>\n",
       "      <td>Roraima</td>\n",
       "      <td>Abrangência em todo o estado</td>\n",
       "    </tr>\n",
       "    <tr>\n",
       "      <th>63</th>\n",
       "      <td>96</td>\n",
       "      <td>Amapá</td>\n",
       "      <td>Abrangência em todo o estado</td>\n",
       "    </tr>\n",
       "    <tr>\n",
       "      <th>64</th>\n",
       "      <td>97</td>\n",
       "      <td>Amazonas</td>\n",
       "      <td>Abrangência no interior do estado</td>\n",
       "    </tr>\n",
       "    <tr>\n",
       "      <th>65</th>\n",
       "      <td>98</td>\n",
       "      <td>Maranhão</td>\n",
       "      <td>São Luís e Região Metropolitana</td>\n",
       "    </tr>\n",
       "    <tr>\n",
       "      <th>66</th>\n",
       "      <td>99</td>\n",
       "      <td>Maranhão</td>\n",
       "      <td>Caxias/Codó/Imperatriz</td>\n",
       "    </tr>\n",
       "  </tbody>\n",
       "</table>\n",
       "<p>67 rows × 3 columns</p>\n",
       "</div>"
      ],
      "text/plain": [
       "    Prefixo     Estado                       Cidades principais / Regiões\n",
       "0        11  São Paulo  Região Metropolitana de São Paulo/Região Metro...\n",
       "1        12  São Paulo  Região Metropolitana do Vale do Paraíba e Lito...\n",
       "2        13  São Paulo  Região Metropolitana da Baixada Santista/Vale ...\n",
       "3        14  São Paulo     Avaré/Bauru/Botucatu/Jaú/Lins/Marília/Ourinhos\n",
       "4        15  São Paulo                Itapetininga/Itapeva/Sorocaba/Tatuí\n",
       "..      ...        ...                                                ...\n",
       "62       95    Roraima                       Abrangência em todo o estado\n",
       "63       96      Amapá                       Abrangência em todo o estado\n",
       "64       97   Amazonas                  Abrangência no interior do estado\n",
       "65       98   Maranhão                    São Luís e Região Metropolitana\n",
       "66       99   Maranhão                             Caxias/Codó/Imperatriz\n",
       "\n",
       "[67 rows x 3 columns]"
      ]
     },
     "execution_count": 9,
     "metadata": {},
     "output_type": "execute_result"
    }
   ],
   "source": [
    "tabelas[0]"
   ]
  },
  {
   "cell_type": "code",
   "execution_count": 10,
   "id": "7d65da87",
   "metadata": {},
   "outputs": [
    {
     "data": {
      "text/html": [
       "<div>\n",
       "<style scoped>\n",
       "    .dataframe tbody tr th:only-of-type {\n",
       "        vertical-align: middle;\n",
       "    }\n",
       "\n",
       "    .dataframe tbody tr th {\n",
       "        vertical-align: top;\n",
       "    }\n",
       "\n",
       "    .dataframe thead th {\n",
       "        text-align: right;\n",
       "    }\n",
       "</style>\n",
       "<table border=\"1\" class=\"dataframe\">\n",
       "  <thead>\n",
       "    <tr style=\"text-align: right;\">\n",
       "      <th></th>\n",
       "      <th>0</th>\n",
       "      <th>1</th>\n",
       "    </tr>\n",
       "  </thead>\n",
       "  <tbody>\n",
       "    <tr>\n",
       "      <th>0</th>\n",
       "      <td>NaN</td>\n",
       "      <td>Este artigo sobre telefonia é um esboço. Você ...</td>\n",
       "    </tr>\n",
       "  </tbody>\n",
       "</table>\n",
       "</div>"
      ],
      "text/plain": [
       "    0                                                  1\n",
       "0 NaN  Este artigo sobre telefonia é um esboço. Você ..."
      ]
     },
     "execution_count": 10,
     "metadata": {},
     "output_type": "execute_result"
    }
   ],
   "source": [
    "tabelas[1]"
   ]
  },
  {
   "cell_type": "markdown",
   "id": "a7cdad2a",
   "metadata": {},
   "source": [
    "## 2 Criando Dataframes e Series\n",
    "[Voltar para o índice](#Índice)"
   ]
  },
  {
   "cell_type": "markdown",
   "id": "9b71c5ab",
   "metadata": {},
   "source": [
    "### 2.1 Criando Series\n",
    "\n",
    "Series é um conjunto de dados que só pode ter uma única dimensão, ou seja, uma única coluna\n",
    "<br>[Voltar para o índice](#Índice)"
   ]
  },
  {
   "cell_type": "code",
   "execution_count": 8,
   "id": "1ddbf1c4",
   "metadata": {},
   "outputs": [
    {
     "data": {
      "text/plain": [
       "Marido      Silvio Monte\n",
       "Esposa     Indra Escobar\n",
       "Mãe        Neide Muhlert\n",
       "Sogro     Arturo Escobar\n",
       "dtype: object"
      ]
     },
     "execution_count": 8,
     "metadata": {},
     "output_type": "execute_result"
    }
   ],
   "source": [
    "series = pd.Series(['Silvio Monte', 'Indra Escobar', 'Neide Muhlert', 'Arturo Escobar'],\n",
    "                     index=['Marido', 'Esposa', 'Mãe', 'Sogro'])\n",
    "series"
   ]
  },
  {
   "cell_type": "code",
   "execution_count": null,
   "id": "80aa675a",
   "metadata": {},
   "outputs": [],
   "source": [
    "series = pd.Series(['Silvio Monte', 'Indra Escobar', 'Neide Muhlert', 'Arturo Escobar'])\n",
    "series"
   ]
  },
  {
   "cell_type": "markdown",
   "id": "59872728",
   "metadata": {},
   "source": [
    "### 2.2 Criando Dataframes\n",
    "\n",
    "Dataframes é um conjunto de dados que pode ter uma ou mais dimensões, ou seja, pode conter várias colunas\n",
    "<br>[Voltar para o índice](#Índice)"
   ]
  },
  {
   "cell_type": "code",
   "execution_count": 6,
   "id": "bc2124fd",
   "metadata": {},
   "outputs": [
    {
     "data": {
      "text/html": [
       "<div>\n",
       "<style scoped>\n",
       "    .dataframe tbody tr th:only-of-type {\n",
       "        vertical-align: middle;\n",
       "    }\n",
       "\n",
       "    .dataframe tbody tr th {\n",
       "        vertical-align: top;\n",
       "    }\n",
       "\n",
       "    .dataframe thead th {\n",
       "        text-align: right;\n",
       "    }\n",
       "</style>\n",
       "<table border=\"1\" class=\"dataframe\">\n",
       "  <thead>\n",
       "    <tr style=\"text-align: right;\">\n",
       "      <th></th>\n",
       "      <th>0</th>\n",
       "    </tr>\n",
       "  </thead>\n",
       "  <tbody>\n",
       "    <tr>\n",
       "      <th>0</th>\n",
       "      <td>Silvio Monte</td>\n",
       "    </tr>\n",
       "    <tr>\n",
       "      <th>1</th>\n",
       "      <td>Indra Escobar</td>\n",
       "    </tr>\n",
       "    <tr>\n",
       "      <th>2</th>\n",
       "      <td>Neide Muhlert</td>\n",
       "    </tr>\n",
       "    <tr>\n",
       "      <th>3</th>\n",
       "      <td>Arturo Escobar</td>\n",
       "    </tr>\n",
       "  </tbody>\n",
       "</table>\n",
       "</div>"
      ],
      "text/plain": [
       "                0\n",
       "0    Silvio Monte\n",
       "1   Indra Escobar\n",
       "2   Neide Muhlert\n",
       "3  Arturo Escobar"
      ]
     },
     "execution_count": 6,
     "metadata": {},
     "output_type": "execute_result"
    }
   ],
   "source": [
    "dataframe = pd.DataFrame(['Silvio Monte', 'Indra Escobar', 'Neide Muhlert', 'Arturo Escobar'])\n",
    "dataframe"
   ]
  },
  {
   "cell_type": "code",
   "execution_count": 7,
   "id": "e4edb87e",
   "metadata": {},
   "outputs": [
    {
     "data": {
      "text/html": [
       "<div>\n",
       "<style scoped>\n",
       "    .dataframe tbody tr th:only-of-type {\n",
       "        vertical-align: middle;\n",
       "    }\n",
       "\n",
       "    .dataframe tbody tr th {\n",
       "        vertical-align: top;\n",
       "    }\n",
       "\n",
       "    .dataframe thead th {\n",
       "        text-align: right;\n",
       "    }\n",
       "</style>\n",
       "<table border=\"1\" class=\"dataframe\">\n",
       "  <thead>\n",
       "    <tr style=\"text-align: right;\">\n",
       "      <th></th>\n",
       "      <th>0</th>\n",
       "    </tr>\n",
       "  </thead>\n",
       "  <tbody>\n",
       "    <tr>\n",
       "      <th>Marido</th>\n",
       "      <td>Silvio Monte</td>\n",
       "    </tr>\n",
       "    <tr>\n",
       "      <th>Esposa</th>\n",
       "      <td>Indra Escobar</td>\n",
       "    </tr>\n",
       "    <tr>\n",
       "      <th>Mãe</th>\n",
       "      <td>Neide Muhlert</td>\n",
       "    </tr>\n",
       "    <tr>\n",
       "      <th>Sogro</th>\n",
       "      <td>Arturo Escobar</td>\n",
       "    </tr>\n",
       "  </tbody>\n",
       "</table>\n",
       "</div>"
      ],
      "text/plain": [
       "                     0\n",
       "Marido    Silvio Monte\n",
       "Esposa   Indra Escobar\n",
       "Mãe      Neide Muhlert\n",
       "Sogro   Arturo Escobar"
      ]
     },
     "execution_count": 7,
     "metadata": {},
     "output_type": "execute_result"
    }
   ],
   "source": [
    "dataframe = pd.DataFrame(['Silvio Monte', 'Indra Escobar', 'Neide Muhlert', 'Arturo Escobar'],\n",
    "                     index=['Marido', 'Esposa', 'Mãe', 'Sogro'])\n",
    "dataframe"
   ]
  },
  {
   "cell_type": "code",
   "execution_count": 10,
   "id": "8c6669a0",
   "metadata": {},
   "outputs": [
    {
     "data": {
      "text/html": [
       "<div>\n",
       "<style scoped>\n",
       "    .dataframe tbody tr th:only-of-type {\n",
       "        vertical-align: middle;\n",
       "    }\n",
       "\n",
       "    .dataframe tbody tr th {\n",
       "        vertical-align: top;\n",
       "    }\n",
       "\n",
       "    .dataframe thead th {\n",
       "        text-align: right;\n",
       "    }\n",
       "</style>\n",
       "<table border=\"1\" class=\"dataframe\">\n",
       "  <thead>\n",
       "    <tr style=\"text-align: right;\">\n",
       "      <th></th>\n",
       "      <th>Nome</th>\n",
       "      <th>Parentesco</th>\n",
       "    </tr>\n",
       "  </thead>\n",
       "  <tbody>\n",
       "    <tr>\n",
       "      <th>0</th>\n",
       "      <td>Silvio Monte</td>\n",
       "      <td>Marido</td>\n",
       "    </tr>\n",
       "    <tr>\n",
       "      <th>1</th>\n",
       "      <td>Indra Escobar</td>\n",
       "      <td>Esposa</td>\n",
       "    </tr>\n",
       "    <tr>\n",
       "      <th>2</th>\n",
       "      <td>Neide Muhlert</td>\n",
       "      <td>Mãe</td>\n",
       "    </tr>\n",
       "    <tr>\n",
       "      <th>3</th>\n",
       "      <td>Arturo Escobar</td>\n",
       "      <td>Sogro</td>\n",
       "    </tr>\n",
       "  </tbody>\n",
       "</table>\n",
       "</div>"
      ],
      "text/plain": [
       "             Nome Parentesco\n",
       "0    Silvio Monte     Marido\n",
       "1   Indra Escobar     Esposa\n",
       "2   Neide Muhlert        Mãe\n",
       "3  Arturo Escobar      Sogro"
      ]
     },
     "execution_count": 10,
     "metadata": {},
     "output_type": "execute_result"
    }
   ],
   "source": [
    "data = {'Nome' : ['Silvio Monte', 'Indra Escobar', 'Neide Muhlert', 'Arturo Escobar'],\n",
    "                     'Parentesco': ['Marido', 'Esposa', 'Mãe', 'Sogro']}\n",
    "dataframe = pd.DataFrame(data)\n",
    "dataframe"
   ]
  },
  {
   "cell_type": "markdown",
   "id": "92de25a1",
   "metadata": {},
   "source": [
    "## 3 Resolvendo problemas com acentos\n",
    "[Voltar para o índice](#Índice)"
   ]
  },
  {
   "cell_type": "code",
   "execution_count": 11,
   "id": "40aaa9f4",
   "metadata": {},
   "outputs": [],
   "source": [
    "base = pd.read_csv('../../arquivos_e_bases/arquivo_csv.csv', encoding='latin1')\n",
    "base"
   ]
  },
  {
   "cell_type": "markdown",
   "id": "f06f6263",
   "metadata": {},
   "source": [
    "## 4 Alterando nome das colunas\n",
    "[Voltar para o índice](#Índice)"
   ]
  },
  {
   "cell_type": "code",
   "execution_count": 10,
   "id": "c5a3b2e4",
   "metadata": {},
   "outputs": [
    {
     "data": {
      "text/html": [
       "<div>\n",
       "<style scoped>\n",
       "    .dataframe tbody tr th:only-of-type {\n",
       "        vertical-align: middle;\n",
       "    }\n",
       "\n",
       "    .dataframe tbody tr th {\n",
       "        vertical-align: top;\n",
       "    }\n",
       "\n",
       "    .dataframe thead th {\n",
       "        text-align: right;\n",
       "    }\n",
       "</style>\n",
       "<table border=\"1\" class=\"dataframe\">\n",
       "  <thead>\n",
       "    <tr style=\"text-align: right;\">\n",
       "      <th></th>\n",
       "      <th>nome_completo</th>\n",
       "      <th>email</th>\n",
       "      <th>telefone_com_ddd</th>\n",
       "      <th>cidade</th>\n",
       "      <th>uf</th>\n",
       "    </tr>\n",
       "  </thead>\n",
       "  <tbody>\n",
       "    <tr>\n",
       "      <th>0</th>\n",
       "      <td>Nome</td>\n",
       "      <td>Email</td>\n",
       "      <td>Telefone</td>\n",
       "      <td>Cidade</td>\n",
       "      <td>Estado</td>\n",
       "    </tr>\n",
       "    <tr>\n",
       "      <th>1</th>\n",
       "      <td>Silvio Monte</td>\n",
       "      <td>silvio@silviomonte.com.br</td>\n",
       "      <td>(81) 99215.2084</td>\n",
       "      <td>Recife</td>\n",
       "      <td>PE</td>\n",
       "    </tr>\n",
       "    <tr>\n",
       "      <th>2</th>\n",
       "      <td>Indra Escobar</td>\n",
       "      <td>indra@escobar.com</td>\n",
       "      <td>(81) 98655.2356</td>\n",
       "      <td>Arcoverde</td>\n",
       "      <td>PE</td>\n",
       "    </tr>\n",
       "    <tr>\n",
       "      <th>3</th>\n",
       "      <td>Jack Johnson</td>\n",
       "      <td>jack@jackjohnson.com</td>\n",
       "      <td>(83) 32566.6536</td>\n",
       "      <td>Jo�o Pessoa</td>\n",
       "      <td>PB</td>\n",
       "    </tr>\n",
       "    <tr>\n",
       "      <th>4</th>\n",
       "      <td>Jimmy Hendrix</td>\n",
       "      <td>jummy@nonemail.com</td>\n",
       "      <td>(11) 36523.1576</td>\n",
       "      <td>S�o Paulo</td>\n",
       "      <td>SP</td>\n",
       "    </tr>\n",
       "  </tbody>\n",
       "</table>\n",
       "</div>"
      ],
      "text/plain": [
       "   nome_completo                      email telefone_com_ddd       cidade  \\\n",
       "0           Nome                      Email         Telefone       Cidade   \n",
       "1   Silvio Monte  silvio@silviomonte.com.br  (81) 99215.2084       Recife   \n",
       "2  Indra Escobar          indra@escobar.com  (81) 98655.2356    Arcoverde   \n",
       "3   Jack Johnson       jack@jackjohnson.com  (83) 32566.6536  Jo�o Pessoa   \n",
       "4  Jimmy Hendrix         jummy@nonemail.com  (11) 36523.1576    S�o Paulo   \n",
       "\n",
       "       uf  \n",
       "0  Estado  \n",
       "1      PE  \n",
       "2      PE  \n",
       "3      PB  \n",
       "4      SP  "
      ]
     },
     "execution_count": 10,
     "metadata": {},
     "output_type": "execute_result"
    }
   ],
   "source": [
    "base = pd.read_csv('../../arquivos_e_bases/arquivo_csv.csv', names=['nome_completo', 'email', 'telefone_com_ddd', 'cidade', 'uf'])\n",
    "base"
   ]
  },
  {
   "cell_type": "code",
   "execution_count": null,
   "id": "dc778d25",
   "metadata": {},
   "outputs": [],
   "source": []
  },
  {
   "cell_type": "code",
   "execution_count": null,
   "id": "398ca797",
   "metadata": {},
   "outputs": [],
   "source": []
  },
  {
   "cell_type": "code",
   "execution_count": null,
   "id": "4fc54034",
   "metadata": {},
   "outputs": [],
   "source": []
  }
 ],
 "metadata": {
  "kernelspec": {
   "display_name": "Python 3",
   "language": "python",
   "name": "python3"
  },
  "language_info": {
   "codemirror_mode": {
    "name": "ipython",
    "version": 3
   },
   "file_extension": ".py",
   "mimetype": "text/x-python",
   "name": "python",
   "nbconvert_exporter": "python",
   "pygments_lexer": "ipython3",
   "version": "3.8.8"
  }
 },
 "nbformat": 4,
 "nbformat_minor": 5
}

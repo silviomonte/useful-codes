{
 "cells": [
  {
   "cell_type": "markdown",
   "id": "42b94410",
   "metadata": {},
   "source": [
    "# Map\n",
    "\n",
    "Serve para aplicar uma função a cada item em um iterável (como uma lista ou um dicionário) e retornar um novo iterador para recuperar os resultados.\n",
    "\n",
    "map(function, iterable, [iterable 2, iterable 3, ...])"
   ]
  },
  {
   "cell_type": "markdown",
   "id": "71df7643",
   "metadata": {},
   "source": [
    "## Usando uma função Lambda"
   ]
  },
  {
   "cell_type": "code",
   "execution_count": 1,
   "id": "c97e3675",
   "metadata": {},
   "outputs": [
    {
     "name": "stdout",
     "output_type": "stream",
     "text": [
      "[20, 30, 42, 66, 84, 110]\n"
     ]
    }
   ],
   "source": [
    "numeros = [10, 15, 21, 33, 42, 55]\n",
    "map_numeros = list(map(lambda x: x * 2, numeros))\n",
    "print(map_numeros)"
   ]
  }
 ],
 "metadata": {
  "kernelspec": {
   "display_name": "Python 3",
   "language": "python",
   "name": "python3"
  },
  "language_info": {
   "codemirror_mode": {
    "name": "ipython",
    "version": 3
   },
   "file_extension": ".py",
   "mimetype": "text/x-python",
   "name": "python",
   "nbconvert_exporter": "python",
   "pygments_lexer": "ipython3",
   "version": "3.8.8"
  }
 },
 "nbformat": 4,
 "nbformat_minor": 5
}

{
 "cells": [
  {
   "cell_type": "markdown",
   "id": "55288436",
   "metadata": {},
   "source": [
    "# For\n",
    "\n",
    "for &lt;destino&gt; in &lt;condição&gt;: <br>\n",
    "&nbsp;&nbsp;&nbsp;&nbsp; Funções <br>\n",
    "else: (opcional)<br>\n",
    "&nbsp;&nbsp;&nbsp;&nbsp; Funções <br>"
   ]
  },
  {
   "cell_type": "code",
   "execution_count": 1,
   "id": "3acd6af8",
   "metadata": {},
   "outputs": [
    {
     "name": "stdout",
     "output_type": "stream",
     "text": [
      "0\n",
      "1\n",
      "2\n",
      "3\n",
      "4\n",
      "5\n"
     ]
    }
   ],
   "source": [
    "lista = [0, 1, 2, 3, 4, 5]\n",
    "for item in lista:\n",
    "    print(item)"
   ]
  },
  {
   "cell_type": "code",
   "execution_count": 5,
   "id": "2a91b90c",
   "metadata": {},
   "outputs": [
    {
     "name": "stdout",
     "output_type": "stream",
     "text": [
      "Key => Nome  ||  Value => Silvio Monte\n",
      "Key => Idade  ||  Value => 23\n",
      "Key => Altura  ||  Value => 1.68\n"
     ]
    }
   ],
   "source": [
    "dicionario = {'Nome' : 'Silvio Monte', 'Idade' : 23, 'Altura' : 1.68}\n",
    "for keys, values in dicionario.items():\n",
    "    print(f'Key => {keys}  ||  Value => {values}')"
   ]
  },
  {
   "cell_type": "markdown",
   "id": "07dff2fd",
   "metadata": {},
   "source": [
    "## Else"
   ]
  },
  {
   "cell_type": "code",
   "execution_count": 9,
   "id": "09397540",
   "metadata": {},
   "outputs": [
    {
     "name": "stdout",
     "output_type": "stream",
     "text": [
      "0\n",
      "1\n",
      "2\n",
      "3\n",
      "4\n",
      "5\n",
      "Saiu do Loop\n"
     ]
    }
   ],
   "source": [
    "lista = [0, 1, 2, 3, 4, 5]\n",
    "for item in lista:\n",
    "    print(item)\n",
    "else:\n",
    "    print('Saiu do Loop')"
   ]
  }
 ],
 "metadata": {
  "kernelspec": {
   "display_name": "Python 3",
   "language": "python",
   "name": "python3"
  },
  "language_info": {
   "codemirror_mode": {
    "name": "ipython",
    "version": 3
   },
   "file_extension": ".py",
   "mimetype": "text/x-python",
   "name": "python",
   "nbconvert_exporter": "python",
   "pygments_lexer": "ipython3",
   "version": "3.8.8"
  }
 },
 "nbformat": 4,
 "nbformat_minor": 5
}
